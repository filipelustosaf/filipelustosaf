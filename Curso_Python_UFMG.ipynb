{
  "nbformat": 4,
  "nbformat_minor": 0,
  "metadata": {
    "colab": {
      "name": "Curso Python UFMG.ipynb",
      "provenance": [],
      "collapsed_sections": [],
      "authorship_tag": "ABX9TyMWsel30i2xylF0/+P+90oY"
    },
    "kernelspec": {
      "name": "python3",
      "display_name": "Python 3"
    },
    "language_info": {
      "name": "python"
    }
  },
  "cells": [
    {
      "cell_type": "markdown",
      "metadata": {
        "id": "5sEPfKnpFSxP"
      },
      "source": [
        "#Curso Phyton UFMG - Composição de Programas em Python\n"
      ]
    },
    {
      "cell_type": "code",
      "metadata": {
        "id": "lt_mNyDAFR3o",
        "colab": {
          "base_uri": "https://localhost:8080/"
        },
        "outputId": "dd31b5c3-52a6-46ff-ac2c-035991ee321e"
      },
      "source": [
        "# Aula 01 (A)\n",
        "class Robot:\n",
        "  def say_hi(self):\n",
        "    print('hi')\n",
        "\n",
        "r1 = Robot()\n",
        "r1.say_hi()\n",
        "\n",
        "r2 = Robot()\n",
        "r2.say_hi()"
      ],
      "execution_count": null,
      "outputs": [
        {
          "output_type": "stream",
          "name": "stdout",
          "text": [
            "hi\n",
            "hi\n"
          ]
        }
      ]
    },
    {
      "cell_type": "code",
      "metadata": {
        "colab": {
          "base_uri": "https://localhost:8080/"
        },
        "id": "dyVH5v2pwIfM",
        "outputId": "ec27ca47-b3ad-4115-a05d-b7482af1a11d"
      },
      "source": [
        "class TesteAtributo:\n",
        "\n",
        "  # variável de classe\n",
        "  atributo_classe = 0\n",
        "\n",
        "  def __init__(self):\n",
        "    # variável de instância\n",
        "    self.atributo_instancia = 0\n",
        "\n",
        "t1 = TesteAtributo()\n",
        "print(TesteAtributo.atributo_classe)\n",
        "print(t1.atributo_instancia)\n",
        "\n",
        "TesteAtributo.atributo_classe = 1       # alterei apenas o atributo de classe.\n",
        "t1.atributo_instancia                # o atributo de instância não alterou porque ele foi alterado apenas quanto ao objeto.\n",
        "\n",
        "t2 = TesteAtributo()\n",
        "print(TesteAtributo.atributo_classe)\n",
        "print(t2.atributo_instancia)\n",
        "\n",
        "# É possível criar métodos (funções) de classe ou de instância.\n",
        "# a principal diferença é que o de classe possui o que se chama decorator (@) para informar que aquele método não acessa infos específicas de uma instância, mas compatilha espaços de mamória com todos os objetos daquele determinado tipo.\n",
        "# já método de instância deve ter como primeiro parâmetro o operador (self), pois é ele que será utilizado para acessar um determinado espaço de memória daquele objeto específico.\n",
        " "
      ],
      "execution_count": null,
      "outputs": [
        {
          "output_type": "stream",
          "name": "stdout",
          "text": [
            "0\n",
            "0\n",
            "1\n",
            "0\n"
          ]
        }
      ]
    },
    {
      "cell_type": "code",
      "metadata": {
        "colab": {
          "base_uri": "https://localhost:8080/"
        },
        "id": "EHmejWIzyq2r",
        "outputId": "bb051329-d544-4b50-9036-4a1c570611d4"
      },
      "source": [
        "# Aula 01 (B)\n",
        "\n",
        "import math\n",
        "\n",
        "class Circ:\n",
        "\n",
        "  def area(self, r):  # o (r) não faz parte da classe, ele é apenas um parâmetro do método.\n",
        "    return math.pi*r*r\n",
        "\n",
        "c1 = Circ()\n",
        "a = c1.area(1)  # o (self) não precisa ser informado na chamada do método, pois ele vai ser passado internamente pela própria instância.\n",
        "print(a)\n",
        "\n",
        "c2 =  Circ()\n",
        "a2 = c2.area(5)\n",
        "print(a2)"
      ],
      "execution_count": null,
      "outputs": [
        {
          "output_type": "stream",
          "name": "stdout",
          "text": [
            "3.141592653589793\n",
            "78.53981633974483\n"
          ]
        }
      ]
    },
    {
      "cell_type": "markdown",
      "metadata": {
        "id": "2rFN0vQU0y8S"
      },
      "source": [
        "# Self\n",
        "O self é um parâmetro para acessar a própria instância. \n",
        "\n",
        "Ele é obrigatório em métodos de instância.\n",
        "\n",
        "Sempre será o primeiro (ou único) na lista de parâmetros.\n",
        "\n",
        "Não necessariamente precisa chamar o self, mas é uma convenção mais utilizada porque ajuda a deixar o código mais legível."
      ]
    },
    {
      "cell_type": "markdown",
      "metadata": {
        "id": "E2Gxx-e9IZH2"
      },
      "source": [
        "# Método CONSTRUTOR/INICIALIZADOR"
      ]
    },
    {
      "cell_type": "code",
      "metadata": {
        "colab": {
          "base_uri": "https://localhost:8080/"
        },
        "id": "TFB6gJVe19e6",
        "outputId": "34330cd1-eafd-484a-e207-b39305c7d6db"
      },
      "source": [
        "# Método CONSTRUTOR/INICIALIZADOR\n",
        "\n",
        "# __new__ cria uma instância da classe.\n",
        "# __init__ é o método que instancializa/modifica/constroe os valores de instância da classe.\n",
        "\n",
        "import math\n",
        "\n",
        "class Circ:\n",
        "\n",
        "  def __init__(self, x=0.0, y=0.0, r=1.0): # é possível definir valores padrão para os parâmetros.\n",
        "    self.x = x\n",
        "    self.y = y\n",
        "    self.r = r\n",
        "\n",
        "  def area(self):\n",
        "    return math.pi * self.r * self.r\n",
        "\n",
        "c1 = Circ(10, 10, 10) \n",
        "a = c1.area()\n",
        "print(a)\n",
        "print(c1.x, c1.y, c1.r) # é possível dar um print nas próprias variáveis do objeto.\n",
        "\n",
        "c2 = Circ(5, 5, 5) \n",
        "b = c2.area()\n",
        "print(b)\n",
        "print(c2.x, c2.y, c2.r)\n",
        "\n",
        "c3 = Circ() # inicializando usando os valores padrão do método.\n",
        "print(c3.x, c3.y, c3.r)"
      ],
      "execution_count": null,
      "outputs": [
        {
          "output_type": "stream",
          "name": "stdout",
          "text": [
            "314.1592653589793\n",
            "10 10 10\n",
            "78.53981633974483\n",
            "5 5 5\n",
            "0.0 0.0 1.0\n"
          ]
        }
      ]
    },
    {
      "cell_type": "markdown",
      "metadata": {
        "id": "tVu6Lu5_IWtr"
      },
      "source": [
        "# MÉTODOS ESPECIAIS"
      ]
    },
    {
      "cell_type": "code",
      "metadata": {
        "id": "OMP9aWJhCvzW"
      },
      "source": [
        "# MÉTODOS ESPECIAIS\n",
        "# fáceis de identificar porque sempre começam ou terminam com duble underscores (\"dunder methods\")\n",
        "\n",
        "__init__(self [,arg s...])  # Inicialização de um objeto.\n",
        "__del__(self)  # Destrutor. Define o que deve ser feito depois que o objeto for retirado da memória pelo garbage collector.\n",
        "__str__(self)   # Comportamento ao se chamar como str(). Como podemos imprimir nosso objeto como string quando for necessário.\n",
        "__cmp__(self, x)   # Comparação com outros objetos de um determinado tipo.\n"
      ],
      "execution_count": null,
      "outputs": []
    },
    {
      "cell_type": "code",
      "metadata": {
        "colab": {
          "base_uri": "https://localhost:8080/"
        },
        "id": "TheeVL6QEUsE",
        "outputId": "bc449017-9896-4aac-ff89-15cbb49a9d4f"
      },
      "source": [
        "import math\n",
        "\n",
        "class Circ:\n",
        "\n",
        "  def __init__(self, x=0.0, y=0.0, r=1.0):\n",
        "    self.x = x\n",
        "    self.y = y\n",
        "    self.r = r\n",
        "\n",
        "  def area(self):\n",
        "    return math.pi * self.r * self.r\n",
        "\n",
        "  def __str__(self):\n",
        "    return \"Circunferência: \" + str(self.x) + \", \" + str(self.y) + \", \" + str(self.r)\n",
        "\n",
        "c1 = Circ(2,2,2)\n",
        "print(c1)    # aqui eu chamei com string o objeto c1."
      ],
      "execution_count": null,
      "outputs": [
        {
          "output_type": "stream",
          "name": "stdout",
          "text": [
            "Circunferência: 2, 2, 2\n"
          ]
        }
      ]
    },
    {
      "cell_type": "markdown",
      "metadata": {
        "id": "neo3wjE6ISkv"
      },
      "source": [
        "# ENCAPSULAMENTO"
      ]
    },
    {
      "cell_type": "code",
      "metadata": {
        "id": "ouEvc5PgFRqf"
      },
      "source": [
        "# ENCAPSULAMENTO\n",
        "# o principal o objetivo é conseguir separar os métodos/dados em públicos e privados.\n",
        "\n",
        "# Escopo de acesso -> região de um programa em que o membro pode ser referenciado.\n",
        "# definidos pelo underscores (_). Python não possui palavras chaves como Java\n",
        "\n",
        "\n",
        "#   Sintaxe   |     Notação     |            Comportamento\n",
        "#    nome     |     Public      |  Podem ser acessados dentro e fora da classe.\n",
        "#   _nome     |    Protected    |  Somente podem ser acessados por classes na hierarquia.\n",
        "#  __nome     |     Private     |  Não poder ser acessados fora da classe.\n"
      ],
      "execution_count": null,
      "outputs": []
    },
    {
      "cell_type": "code",
      "metadata": {
        "colab": {
          "base_uri": "https://localhost:8080/",
          "height": 203
        },
        "id": "mXaHhZYBGu1D",
        "outputId": "5150f505-85bb-48d9-a3c3-04c6163e20c1"
      },
      "source": [
        "import math\n",
        "\n",
        "class Circ:\n",
        "\n",
        "  def __init__(self, x=0.0, y=0.0, r=1.0):\n",
        "    self.x = x\n",
        "    self.y = y\n",
        "    self.r = r\n",
        "\n",
        "  def __area(self):          # PRIVADO - não consegue acessar a partir de uma instância da classe. Apenas na classe.\n",
        "    return math.pi * self.r * self.r\n",
        "\n",
        "  def dist(self, circ):        # PÚBLICO\n",
        "    return math.sqrt((self.x-circ.x)**2 + (self.y-circ.y)**2)\n",
        "\n",
        "  def __str__(self):\n",
        "    return \"Circunferência: \" + str(self.x) + \", \" + str(self.y) + \", \" + str(self.r)\n",
        "\n",
        "c1 = Circ()\n",
        "a = c1.area()"
      ],
      "execution_count": 17,
      "outputs": [
        {
          "output_type": "error",
          "ename": "AttributeError",
          "evalue": "ignored",
          "traceback": [
            "\u001b[0;31m---------------------------------------------------------------------------\u001b[0m",
            "\u001b[0;31mAttributeError\u001b[0m                            Traceback (most recent call last)",
            "\u001b[0;32m<ipython-input-17-d15333fb65d4>\u001b[0m in \u001b[0;36m<module>\u001b[0;34m()\u001b[0m\n\u001b[1;32m     18\u001b[0m \u001b[0;34m\u001b[0m\u001b[0m\n\u001b[1;32m     19\u001b[0m \u001b[0mc1\u001b[0m \u001b[0;34m=\u001b[0m \u001b[0mCirc\u001b[0m\u001b[0;34m(\u001b[0m\u001b[0;34m)\u001b[0m\u001b[0;34m\u001b[0m\u001b[0;34m\u001b[0m\u001b[0m\n\u001b[0;32m---> 20\u001b[0;31m \u001b[0ma\u001b[0m \u001b[0;34m=\u001b[0m \u001b[0mc1\u001b[0m\u001b[0;34m.\u001b[0m\u001b[0marea\u001b[0m\u001b[0;34m(\u001b[0m\u001b[0;34m)\u001b[0m\u001b[0;34m\u001b[0m\u001b[0;34m\u001b[0m\u001b[0m\n\u001b[0m",
            "\u001b[0;31mAttributeError\u001b[0m: 'Circ' object has no attribute 'area'"
          ]
        }
      ]
    },
    {
      "cell_type": "markdown",
      "metadata": {
        "id": "3U0ePVCd84mW"
      },
      "source": [
        "# Exercício 01 - Retângulos"
      ]
    },
    {
      "cell_type": "code",
      "metadata": {
        "colab": {
          "base_uri": "https://localhost:8080/"
        },
        "id": "t3ODZ8ArIqIx",
        "outputId": "1a69f225-8152-463b-9aad-ab1e78f515b9"
      },
      "source": [
        "# Exercício 01 - Retângulos\n",
        "\n",
        "class Ponto2D:\n",
        "\n",
        "    def __init__(self, x=0.0, y=0.0):\n",
        "      self.x = x\n",
        "      self.y = y\n",
        "    pass\n",
        "\n",
        "class Retangulo:\n",
        "\n",
        "    def __init__(self, esq_sup, dir_inf):\n",
        "      self.__esq_sup = esq_sup\n",
        "      self.__dir_inf = dir_inf\n",
        "    pass\n",
        "\n",
        "    @property\n",
        "    def esq_sup(self):\n",
        "      return self.__esq_sup\n",
        "    \n",
        "    @property\n",
        "    def dir_inf(self):\n",
        "      return self.__dir_inf\n",
        "    \n",
        "    @property\n",
        "    def width(self):\n",
        "      return self.__dir_inf.x - self.__esq_sup.x\n",
        "\n",
        "    @property\n",
        "    def height(self):\n",
        "      return self.__esq_sup.y - self.__dir_inf.y\n",
        "\n",
        "    def calcularArea(self):\n",
        "      area = (self.__dir_inf.x - self.__esq_sup.x) * (self.__esq_sup.y - self.__dir_inf.y)\n",
        "      return area\n",
        "\n",
        "    def calcularIntersecao(self, ret):\n",
        "      area_inter = ((ret.__esq_sup.x - self.__esq_sup.x) - (ret.__dir_inf.x - self.__dir_inf.x)) * ((ret.__esq_sup.y - self.__esq_sup.y) - (ret.__dir_inf.y - self.__dir_inf.y))\n",
        "      if area_inter <= 0:\n",
        "        return None\n",
        "\n",
        "      else:\n",
        "        return area_inter\n",
        "\n",
        "r1_esq_sup = Ponto2D(-6.5, 5.0)\n",
        "r1_dir_inf = Ponto2D(-2.0, 2.5)\n",
        "ret1 = Retangulo(r1_esq_sup, r1_dir_inf)\n",
        "area1 = ret1.calcularArea() \n",
        "print(\"%.2f %.2f %.2f\" % (ret1.width, ret1.height, area1))\n",
        " \n",
        "r2_esq_sup = Ponto2D(2.0, 7.0)\n",
        "r2_dir_inf = Ponto2D(5.0, 4.0)\n",
        "ret2 = Retangulo(r2_esq_sup, r2_dir_inf)\n",
        "area2 = ret2.calcularArea()\n",
        "print(\"%.2f %.2f %.2f\" % (ret2.width, ret2.height, area2))\n",
        "\n",
        "intersecao = ret1.calcularIntersecao(ret2)\n",
        "print(intersecao)"
      ],
      "execution_count": null,
      "outputs": [
        {
          "output_type": "stream",
          "name": "stdout",
          "text": [
            "4.50 2.50 11.25\n",
            "3.00 3.00 9.00\n",
            "0.75\n"
          ]
        }
      ]
    },
    {
      "cell_type": "code",
      "metadata": {
        "colab": {
          "base_uri": "https://localhost:8080/"
        },
        "id": "4VYNGi7zVBOl",
        "outputId": "a7210d1e-1e72-45e2-a8af-fd91bf415d65"
      },
      "source": [
        "class Ponto2D:\n",
        "\n",
        "    def __init__(self, x=0.0, y=0.0):\n",
        "      self.x = x\n",
        "      self.y = y\n",
        "    pass\n",
        "\n",
        "class Retangulo:\n",
        "\n",
        "    def __init__(self, esq_sup, dir_inf):\n",
        "      self.__esq_sup = esq_sup\n",
        "      self.__dir_inf = dir_inf\n",
        "    pass\n",
        "\n",
        "    @property\n",
        "    def esq_sup(self):\n",
        "      return self.__esq_sup\n",
        "    \n",
        "    @property\n",
        "    def dir_inf(self):\n",
        "      return self.__dir_inf\n",
        "    \n",
        "    @property\n",
        "    def width(self):\n",
        "      return self.__dir_inf.x - self.__esq_sup.x\n",
        "\n",
        "    @property\n",
        "    def height(self):\n",
        "      return self.__esq_sup.y - self.__dir_inf.y\n",
        "\n",
        "    def calcularArea(self):\n",
        "      area = (self.__dir_inf.x - self.__esq_sup.x) * (self.__esq_sup.y - self.__dir_inf.y)\n",
        "      return area\n",
        "\n",
        "    def calcularIntersecao(self, ret):\n",
        "      area_inter = ((ret.__esq_sup.x - self.__esq_sup.x) - (ret.__esq_sup.y - self.__esq_sup.y)) * ((ret.__dir_inf.x - self.__dir_inf.x) - (ret.__dir_inf.y - self.__dir_inf.y))\n",
        "      #area_inter = ((ret.__dir_inf.x - self.__dir_inf.x) - (self.__esq_sup.x - ret.__esq_sup.x)) * ((ret.__dir_inf.y - self.__dir_inf.y) - (self.__esq_sup.y - ret.__esq_sup.y))\n",
        "      if area_inter < 0:\n",
        "        return None\n",
        "\n",
        "      else:\n",
        "        return area_inter\n",
        "\n",
        "r1_esq_sup = Ponto2D(-6.5, 5.0)\n",
        "r1_dir_inf = Ponto2D(-2.0, 2.5)\n",
        "ret1 = Retangulo(r1_esq_sup, r1_dir_inf)\n",
        "area1 = ret1.calcularArea() \n",
        "print(\"%.2f %.2f %.2f\" % (ret1.width, ret1.height, area1))\n",
        " \n",
        "r2_esq_sup = Ponto2D(-4.5, 4.0)\n",
        "r2_dir_inf = Ponto2D(-1.0, -1.0)\n",
        "ret2 = Retangulo(r2_esq_sup, r2_dir_inf)\n",
        "area2 = ret2.calcularArea()\n",
        "print(\"%.2f %.2f %.2f\" % (ret2.width, ret2.height, area2))\n",
        "\n",
        "intersecao = ret1.calcularIntersecao(ret2)\n",
        "print(intersecao)"
      ],
      "execution_count": 16,
      "outputs": [
        {
          "output_type": "stream",
          "name": "stdout",
          "text": [
            "4.50 2.50 11.25\n",
            "3.50 5.00 17.50\n",
            "None\n"
          ]
        }
      ]
    },
    {
      "cell_type": "code",
      "metadata": {
        "id": "Pg104lJwij62"
      },
      "source": [
        "Saída esperada:\n",
        "\n",
        " 4.50 2.50 11.25\n",
        " 3.00 3.00 9.00 \n",
        " None"
      ],
      "execution_count": null,
      "outputs": []
    },
    {
      "cell_type": "code",
      "metadata": {
        "id": "aLTMr9QHg_hL"
      },
      "source": [
        "# MAIOR NOTA\n",
        "class Ponto2D:\n",
        "\n",
        "    def __init__(self, x=0.0, y=0.0):\n",
        "      self.x = x\n",
        "      self.y = y\n",
        "    pass\n",
        "\n",
        "class Retangulo:\n",
        "\n",
        "    def __init__(self, esq_sup, dir_inf):\n",
        "      self.__esq_sup = esq_sup\n",
        "      self.__dir_inf = dir_inf\n",
        "    pass\n",
        "\n",
        "    @property\n",
        "    def esq_sup(self):\n",
        "      return self.__esq_sup\n",
        "    \n",
        "    @property\n",
        "    def dir_inf(self):\n",
        "      return self.__dir_inf\n",
        "    \n",
        "    @property\n",
        "    def width(self):\n",
        "      return self.__dir_inf.x - self.__esq_sup.x\n",
        "\n",
        "    @property\n",
        "    def height(self):\n",
        "      return self.__esq_sup.y - self.__dir_inf.y\n",
        "\n",
        "    def calcularArea(self):\n",
        "      area = (self.__dir_inf.x - self.__esq_sup.x) * (self.__esq_sup.y - self.__dir_inf.y)\n",
        "      return area\n",
        "\n",
        "    def calcularIntersecao(self, ret):\n",
        "\n",
        "      if (((ret.__dir_inf.x - ret.__esq_sup.x) - (self.__dir_inf.x - ret.__esq_sup.x)) * ((ret.__esq_sup.y - ret.__dir_inf.y) - (self.__esq_sup.y - ret.__dir_inf.y))) <= 0:\n",
        "        return None\n",
        "\n",
        "      else:\n",
        "        area_inter = (((ret.__dir_inf.x - ret.__esq_sup.x) - (self.__dir_inf.x - ret.__esq_sup.x)) * ((ret.__esq_sup.y - ret.__dir_inf.y) - (self.__esq_sup.y - ret.__dir_inf.y)))\n",
        "        return"
      ],
      "execution_count": null,
      "outputs": []
    },
    {
      "cell_type": "markdown",
      "metadata": {
        "id": "LHXX-EG080wk"
      },
      "source": [
        "# COMPOSIÇÃO E HERANÇA"
      ]
    },
    {
      "cell_type": "code",
      "metadata": {
        "id": "CovHj-atrQyQ"
      },
      "source": [
        "# Composição de Programas em Python - Aula 02 (A)\n",
        "# COMPOSIÇÃO E HERANÇA\n",
        "\n",
        "# COMPOSIÇÃO \n",
        "# cria uma nova classe que possui objetos de outra classe de menor complexidade.\n",
        "# essas outras classes vão ser usadas a partir de suas interfaces públicas.\n",
        "\n",
        "#exemplo 1 \n",
        "class Autor:\n",
        "  def __init__(self, nome, cpf):\n",
        "    self.nome = nome\n",
        "    self.cpf = cpf\n",
        "\n",
        "class Livro:\n",
        "\n",
        "  def __init__(self, titulo, ano, autor):\n",
        "    self.titulo = titulo\n",
        "    self.ano = ano\n",
        "    self.autor = autor    # perceba que classe livro recebeu \"autor\" como um dos atributos que foi gerado por outra classe.\n",
        "\n",
        "  def __str__(self):\n",
        "    return \"Título: \" + self.titulo + \" Autor: \" + self.autor.nome\n",
        "\n",
        "\n",
        "#exemplo 2 - Composição recursiva - # uma classe pode ter uma relação com objetos do próprio tipo da classe.\n",
        "class Autor:\n",
        "  def __init__(self, nome, cpf):\n",
        "    self.nome = nome\n",
        "    self.cpf = cpf\n",
        "\n",
        "    self.colaboradores = [] # aqui tem a lista de colaboradores com outros autores da própria classe.\n",
        "\n",
        "  def adicionar_colaborador(self, colaborador):\n",
        "    self.colaboradores.append(colaborador)\n",
        "\n",
        "  def __repr__(self):   # __repr__ é utilizado para representar o nosso objeto como uma String.\n",
        "    return \"Nome: %s CPF: %s\" % (self.nome, self.cpf)\n",
        "\n",
        "# HERANÇA\n",
        "# reutiliza características de uma classe na definição de outra classe.\n",
        "# determina a Hierarquia de classes.\n",
        "\"\"\"\n",
        "• Superclasses (classe pai)\n",
        "    Devem guardar membros em comum\n",
        "• Subclasses (classes filhas)\n",
        "    Acrescentam novos membros (especializam)\n",
        "• Reutilização de código\n",
        "    Compartilhar similaridades\n",
        "    Preservar as diferenças\n",
        "\n",
        "• Membros são herdados pelas classes dos níveis mais baixos\n",
        "    Considerando o nível de acesso\n",
        "• Subclasses podem herdar membros de:\n",
        "    Uma única superclasse (Java)\n",
        "      Herança simples\n",
        "    Várias superclasses (C++, Python)\n",
        "      Herança múltipla\n",
        "• O relacionamento é informado na declaração da classe\"\"\"\n",
        "    class ClasseDerivada(ClasseBase1, ClasseBase2, …)\n",
        "\n",
        "#exemplo 1\n",
        "class Personagem:\n",
        "  def mover(self):\n",
        "    print(\"Movendo...\")\n",
        "  def interagir(self):\n",
        "    print(\"Interagindo...\")\n",
        "\n",
        "class Medico(Personagem):\n",
        "  def curar(self):\n",
        "    print(\"Curando...\")\n",
        "\n",
        "class Guerreiro(Personagem):\n",
        "  def atacar(self):\n",
        "    print(\"Atacando...\")\n",
        "\n",
        "\"\"\"\n",
        "Se uma classe não herda diretamente de outra classe, ela então herda de object1,2\n",
        " - Essa herança é feita de forma implícita\n",
        "\n",
        "Superclasse de nível mais alto da linguagem\n",
        "\n",
        "Object\n",
        "    Possui métodos e atributos padrão\n",
        ">>> o = object()\n",
        ">>> dir(o)\n",
        "['__class__', '__delattr__', '__dir__', '__doc__', '__eq__',\n",
        "'__format__', '__ge__', '__getattribute__', '__gt__', '__hash__',\n",
        "'__init__', '__init_subclass__', '__le__', '__lt__', '__ne__', '__new__',\n",
        "'__reduce__', '__reduce_ex__', '__repr__', '__setattr__', '__sizeof__',\n",
        "'__str__', '__subclasshook__']\n",
        "\"\"\"\n",
        "\n",
        "# Princípio da Substituição de Liskov (LSP)\n",
        "\"\"\"\n",
        "Se S é um subtipo de T, objetos do tipo T podem ser substituídos por objetos\n",
        "do tipo S sem alterar nenhuma das propriedades desejadas do programa.\n",
        "exemplo: onde é esperado \"aluno\" eu posso passar \"aluno de graduação\"\n",
        "\n",
        "Contrato de uma classe\n",
        "  Encapsulamento → Interface\n",
        "  Coleção de atributos e métodos visíveis\n",
        "      Membros privados não fazem parte do contrato\n",
        "\n",
        "Subcontratação\n",
        "  Subclasse estende o contrato da superclasse\n",
        "  Contrato redefinido não pode violar o contrato da superclasse\n",
        "\"\"\"\n",
        "\n",
        "# Duck Typing\n",
        "\"\"\"\n",
        "Linguagens OO (diferente de Python)\n",
        "  Geralmente verificam o contrato a partir da herança (estaticamente tipadas)\n",
        "  Interface única → Múltiplos comportamentos (polimorfismo)\n",
        "\n",
        "Python\n",
        "  Não é necessário herdar uma classe para definir um comportamento padrão\n",
        "  Qualquer objeto que atenda à um determinado contrato poderá ser usado\n",
        "\n",
        "ENTÃO Por que eu deveria utilizar herança?\n",
        "• Reúso de código\n",
        "    Comportamentos gerais implementados uma única vez\n",
        "    Manutenção → Alterações em poucas partes do código\n",
        "• Contrato explícito\n",
        "    Maior legibilidade do código existente\n",
        "    Todo o contrato deve ser cumprido, não apenas partes\n",
        "\"\"\"\n",
        "\n",
        "# Considerações Finais\n",
        "\"\"\"\n",
        "• Composição\n",
        "    Relação do tipo “tem um” (has-a)\n",
        "    Objeto possui objetos (≥ 1) de outras classes\n",
        "    Livro tem um Autor\n",
        "• Herança\n",
        "    Relação do tipo “é um” (is-a)\n",
        "    Subclasse tratado como a Superclasse (LSP)\n",
        "    Triângulo é um Polígono \n",
        "\"\"\""
      ],
      "execution_count": null,
      "outputs": []
    },
    {
      "cell_type": "code",
      "metadata": {
        "id": "XRB_9OGL9EE0"
      },
      "source": [
        "# Composição de Programas em Python - Aula 02 (B)\n",
        "\"\"\"\n",
        "Quando usar Composição ou Herança?\n",
        "Composição - O TipoB deseja apenas utilizar parte do comportamento exposto pelo TipoA.\n",
        "Herança - O TipoB vai manter todo o contrato do TipoA e acrescentar novos comportamentos.\n",
        "\"\"\"\n",
        "# Inicialização\n",
        "\"\"\"\n",
        "• Classes derivadas podem ter métodos inicializadores específicos.\n",
        "• Métodos de inicialização com parâmetros da superclasse devem ser\n",
        "chamados explicitamente, caso contrário será usado o local apenas.\n",
        "\n",
        "Pode usar ClasseBase ou super()\"\"\"\n",
        "class ClasseDerivada(ClasseBase)\n",
        "  def __init__(self):\n",
        "    ClasseBase.__init__(self, parametros)\n",
        "\n",
        "class ClasseDerivada(ClasseBase)\n",
        "  def __init__(self):\n",
        "    super().__init__(parametros)\n",
        "\n"
      ],
      "execution_count": null,
      "outputs": []
    },
    {
      "cell_type": "markdown",
      "metadata": {
        "id": "i7oIGJr4b3Uk"
      },
      "source": [
        "#Herança Simples "
      ]
    },
    {
      "cell_type": "code",
      "metadata": {
        "id": "QiegedTBb7BI"
      },
      "source": [
        "# Herança Simples \n",
        "\"\"\"\n",
        "Herança vs. Encapsulamento\n",
        "  Membros private fazem parte do objeto da subclasse.\n",
        "  Não são diretamente acessíveis pois pertencem ao escopo da superclasse.\n",
        "  Atenção: Python não possui membros efetivamente privados, o uso do double underscore\n",
        "  é um alerta que você não deveria tentar manipular aquele membro de fora da classe.\n",
        "\n",
        "Name mangling\n",
        "  Resolução de conflitos entre classes da hierarquia\"\"\"\n",
        "class Derivada(Base):\n",
        "  def bar(self):\n",
        "    self._Base__private()"
      ],
      "execution_count": null,
      "outputs": []
    },
    {
      "cell_type": "markdown",
      "metadata": {
        "id": "hERwNyILb_wZ"
      },
      "source": [
        "# Getters e Setters"
      ]
    },
    {
      "cell_type": "code",
      "metadata": {
        "id": "rn0iHgLtcCCs"
      },
      "source": [
        "# Getters e Setters\n",
        "\"\"\"\n",
        "• Evitar a manipulação direta de atributos\n",
        "    Acesso deve ser o mais restrito possível → Private\n",
        "• Utilizar métodos auxiliares\n",
        "    Get\n",
        "      Métodos que permitem apenas o acesso de consulta (obter) a valores\n",
        "    Set\n",
        "      Métodos que permitem a alteração (definir) e atribuição de valores\n",
        "• Facilita o controle e manutenção do sistema \n",
        "\n",
        "Em Python vamos utilizar properties! \"\"\""
      ],
      "execution_count": null,
      "outputs": []
    },
    {
      "cell_type": "markdown",
      "metadata": {
        "id": "bqv7EmnmcMDy"
      },
      "source": [
        "# Herança Múltipla"
      ]
    },
    {
      "cell_type": "code",
      "metadata": {
        "id": "c2LXpaXPcPqN"
      },
      "source": [
        "# Herança Múltipla\n",
        "\"\"\"\n",
        "• Subclasse pode ter várias Superclasses\n",
        "• Deve ser usada com muito cuidado\n",
        "    Comportamentos não desejados\n",
        "    Redução da modularização (super objetos)\n",
        "• Conflitos de nomes de membros\n",
        "• Method Resolution Order (MRO)\n",
        "    Regras utilizadas para determiner a chamada\n",
        "    De acordo com a declaração \"\"\""
      ],
      "execution_count": null,
      "outputs": []
    },
    {
      "cell_type": "markdown",
      "metadata": {
        "id": "0JWM172Hcrj5"
      },
      "source": [
        "# Abstract Base Classes (abc)\n"
      ]
    },
    {
      "cell_type": "code",
      "metadata": {
        "id": "vV3-fp8gcs-U"
      },
      "source": [
        "\"\"\"\n",
        "• Classes que possuem um ou mais métodos abstratos\n",
        "• Métodos Abstratos\n",
        "    Possuem apenas a assinatura, mas nenhuma implementação\n",
        "• Classes abstratas não pode ser instanciadas\n",
        "    Usadas na implementação de outra classe\n",
        "    Subclasses devem fornecer implementações para os métodos abstratos\n",
        "• É necessário utilizar um módulo para especificar Classes Abstratas\"\"\"\n",
        "\n",
        "from abc import ABC, abstractmethod\n",
        "\n",
        "class AbstractClass(ABC): # ABC <- não pode ser instanciada!\n",
        "    @abstractmethod   # <- precisa ser implementado!\n",
        "    def do_something(self):\n",
        "      pass\n",
        "\n",
        "class ConcreteClass(AbstractClass):\n",
        "    def do_something(self):\n",
        "      pass\n",
        "\n",
        "# Considerações Finais\n",
        "\"\"\"\n",
        "Herança: objetivos fundamentais\n",
        "• Reúso\n",
        "    Escreva código em comum uma vez apenas\n",
        "• Extensão\n",
        "    Adicione novas responsabilidades (membros)\n",
        "• Especialização\n",
        "    Redefina responsabilidades existentes\n",
        "    Classe Base → Classe Derivada\"\"\"\n"
      ],
      "execution_count": null,
      "outputs": []
    }
  ]
}