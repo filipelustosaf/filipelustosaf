{
  "nbformat": 4,
  "nbformat_minor": 0,
  "metadata": {
    "colab": {
      "name": "Curso Python UFMG.ipynb",
      "provenance": [],
      "collapsed_sections": [],
      "authorship_tag": "ABX9TyO5Lzpz7ICSGcG+sOtmJRO1"
    },
    "kernelspec": {
      "name": "python3",
      "display_name": "Python 3"
    },
    "language_info": {
      "name": "python"
    }
  },
  "cells": [
    {
      "cell_type": "markdown",
      "metadata": {
        "id": "5sEPfKnpFSxP"
      },
      "source": [
        "#Curso Phyton UFMG - Composição de Programas em Python\n"
      ]
    },
    {
      "cell_type": "markdown",
      "metadata": {
        "id": "326z9alqRvBj"
      },
      "source": [
        "VOCABULÁRIO\n",
        "\n",
        "instanciar - criar elementos/objetos específicos da classe.\n",
        "\n",
        "instância - funções.\n",
        "\n",
        "atributos - funções da classe / chamadas de operações.\n",
        "\n",
        "membros - diferentes comportamentos dos objetos da classe (atributos e métodos)."
      ]
    },
    {
      "cell_type": "markdown",
      "metadata": {
        "id": "UBd5-8AbN0l1"
      },
      "source": [
        "Aula 00 - POO - Introdução (A)\n",
        "\n"
      ]
    },
    {
      "cell_type": "markdown",
      "metadata": {
        "id": "mzPGNjSzN5Jk"
      },
      "source": [
        "• Paradigma de programação\n",
        "\n",
        "    Visão que o programador possui sobre a estruturação (organização do código) e execução do programa\n",
        "\n",
        "    Associado às técnicas de programação que permitem/proíbem\n",
        "\n",
        "• Tipos\n",
        "\n",
        "    Estruturado/Procedural (IMPERATIVO)\n",
        "    Funcional (DECLARATIVO)\n",
        "    Lógico (DECLARATIVO)\n",
        "    Orientado a objetos (IMPERATIVO)"
      ]
    },
    {
      "cell_type": "markdown",
      "metadata": {
        "id": "hnjPzJm1OLU7"
      },
      "source": [
        "# Programação Orientada a Objetos\n",
        "\n",
        "• Principais necessidades/objetivos\n",
        "\n",
        "    Aumentar a produtividade no desenvolvimento\n",
        "    Diminuir a chance de problemas na entrega\n",
        "    Facilitar a manutenção/extensão no futuro\n",
        "\n",
        "• Programação Orientada a Objetos\n",
        "\n",
        "    Tem apresentado bons resultados\n",
        "    Não é uma bala de prata!\n",
        "\n",
        "• Tipos Abstratos de Dados (TADs) - estrutura que irá encapsular/agrupar dois tipos de membros.\n",
        "\n",
        "    Generalização de tipos primitivos\n",
        "    Encapsula diversos elementos (membros)\n",
        "        Conjunto de VALORES\n",
        "        Conjunto de OPERAÇÕES sobre esses valores\n",
        "\n",
        "• Código com perspectivas diferentes\n",
        "\n",
        "    Usuário do TAD x Programador do TAD\n",
        "    Programador do TAD\n",
        "      Acesso às operações disponibilizadas\n",
        "    Usuário do TAD\n",
        "      Conhece a especificação, não a implementação"
      ]
    },
    {
      "cell_type": "markdown",
      "metadata": {
        "id": "9uAaE0jxHVfD"
      },
      "source": [
        "Aula 00 - POO - Introdução (B)"
      ]
    },
    {
      "cell_type": "markdown",
      "metadata": {
        "id": "Cjdr5o8zHZS4"
      },
      "source": [
        "# Princípios POO"
      ]
    },
    {
      "cell_type": "markdown",
      "metadata": {
        "id": "8m_YVYWWHwMq"
      },
      "source": [
        "### **ABSTRAÇÃO** (Elimine o irrelevante, enfatize o essencial)\n",
        "\n",
        "• Modelagem de um domínio\n",
        "    Identificar artefatos de software\n",
        "    Ignorar aspectos não relevantes\n",
        "    Representação de detalhes do domínio do problema na linguagem de solução\n",
        "• Classes são abstrações de conceitos\n",
        "\n",
        "\n",
        "### **ENCAPSULAMENTO** (Exiba apenas o necessário, esconda o resto)\n",
        "\n",
        "• Agrupamento dos dados e procedimentos correlacionados em uma mesma entidade\n",
        "• Sistema orientado a objetos baseia-se no contrato e não na implementação interna\n",
        "• Proteção da estrutura interna (integridade)\n",
        "\n",
        "\n",
        "### **HERANÇA** (Modele a semelhança, mas permita a diferença)\n",
        "\n",
        "• Permite a hierarquização das classes\n",
        "• Classe especializada (subclasse, filha)\n",
        "    Herda as propriedades (atributos e métodos)\n",
        "    Pode sobrescrever/estender o comportamento\n",
        "• Auxilia no reuso de código\n",
        "\n",
        "\n",
        "### **POLIMORFISMO** (Mesmo contrato, comportamentos diferentes)\n",
        "\n",
        "• Tratar tipos diferentes de forma homogênea\n",
        "    Classes distintas com métodos homônimos\n",
        "    Diferentes níveis na mesma hierarquia\n",
        "• Um método assume “diferentes formas”\n",
        "    Apresenta diferentes comportamentos\n"
      ]
    },
    {
      "cell_type": "markdown",
      "metadata": {
        "id": "VT6ZuW31IEHr"
      },
      "source": [
        "Aula 01 (A)"
      ]
    },
    {
      "cell_type": "markdown",
      "metadata": {
        "id": "fAOEcehwNXa1"
      },
      "source": [
        "• **Tipos de dados → Conjuntos (Primitivos vs. Complexos)**\n",
        "\n",
        "\n",
        "Programação Orientada à Objetos (Tipos Complexos)\n",
        "\n",
        "• Nos permite definir nossos próprios tipos\n",
        "\n",
        "• Dados são dotados de certa inteligência\n",
        "\n",
        "    Valores e procedimentos encapsulados\n",
        "    Sabem realizar operações sobre si mesmos\n",
        "\n",
        "• Bons programas fazem uso de Abstração\n",
        "\n",
        "    Modelagem de um domínio\n",
        "    Conceito (ideia) → Implementação (concreto)\n",
        "    Representação interna → Interface"
      ]
    },
    {
      "cell_type": "markdown",
      "metadata": {
        "id": "qOtueYiEIaR_"
      },
      "source": [
        "# CLASSE \n",
        "• Representam uma unidade de compilação (trecho de código).\n",
        "\n",
        "    Definem uma lógica estática\n",
        "\n",
        "• Formaliza como compreendemos algo no domínio do problema.\n",
        "\n",
        "• Conjunto de elementos com propriedades/operações semelhantes."
      ]
    },
    {
      "cell_type": "markdown",
      "metadata": {
        "id": "PkODLqUmIk0J"
      },
      "source": [
        "# OBJETOS\n",
        "• Objetos são instâncias de uma Classe\n",
        "\n",
        "    Representam um elemento específico do conjunto\n",
        "    \n",
        "• Existem em tempo de execução (memória) \n"
      ]
    },
    {
      "cell_type": "code",
      "metadata": {
        "id": "n_7TF-EjQ0oI"
      },
      "source": [
        "class Robot(): # class Robot(object) relação com a classe object pode ser omitida na relação de classes. Ambas são iguais!\n",
        "  def say_hi(self):\n",
        "    print('hi')\n",
        "\n",
        "r1 = Robot()\n",
        "r1.say_hi()\n",
        "\n",
        "r2 = Robot()\n",
        "r2.say_hi()"
      ],
      "execution_count": null,
      "outputs": []
    },
    {
      "cell_type": "markdown",
      "metadata": {
        "id": "iPDpYptNIsZl"
      },
      "source": [
        "# MEMBROS - diferentes COMPORTAMENTOS de objetos da classe.\n",
        "\n",
        "    De Classe: Associados a todos os objetos de uma classe (estáticos)\n",
        "    De Instância: Referentes especificamente a um determinado objeto\n",
        "\n",
        "São membros os:\n",
        "\n",
        "### • **Atributos**\n",
        "\n",
        "    Dados que constituem a classe\n",
        "    Ex: nome, idade, destinatario, raio, …\n",
        "\n",
        "### • **Métodos**\n",
        "\n",
        "    Funções utilizadas para interagir com a classe (objetos)\n",
        "    Ex: falar_nome, enviar_mensagem, calcular_area, …"
      ]
    },
    {
      "cell_type": "code",
      "metadata": {
        "id": "_2gipj2QIu3u"
      },
      "source": [
        "class TesteAtributo:\n",
        "\n",
        "  # variável de classe  # ATRIBUTOS ESTÁTICOS\n",
        "  atributo_classe = 0  \n",
        "\n",
        "  def __init__(self):\n",
        "    # variável de instância  # ATRIBUTOS DE INSTÂNCIA\n",
        "    self.atributo_instancia = 0   # sempre acessado com o self\n",
        "\n",
        "t1 = TesteAtributo()\n",
        "print(TesteAtributo.atributo_classe)\n",
        "print(t1.atributo_instancia)\n",
        "\n",
        "TesteAtributo.atributo_classe = 1       # alterei apenas o atributo de classe.\n",
        "t1.atributo_instancia                # o atributo de instância não alterou porque ele foi alterado apenas quanto ao objeto.\n",
        "\n",
        "t2 = TesteAtributo()\n",
        "print(TesteAtributo.atributo_classe)\n",
        "print(t2.atributo_instancia)\n",
        "\n",
        "# É possível criar métodos (funções) de classe ou de instância.\n",
        "# a principal diferença é que o de classe possui o que se chama decorator (@) para informar que aquele método não acessa infos específicas de uma instância, mas compatilha espaços de mamória com todos os objetos daquele determinado tipo.\n",
        "# já método de instância deve ter como primeiro parâmetro o operador (self), pois é ele que será utilizado para acessar um determinado espaço de memória daquele objeto específico.\n"
      ],
      "execution_count": null,
      "outputs": []
    },
    {
      "cell_type": "code",
      "metadata": {
        "colab": {
          "base_uri": "https://localhost:8080/"
        },
        "id": "dyVH5v2pwIfM",
        "outputId": "ec27ca47-b3ad-4115-a05d-b7482af1a11d"
      },
      "source": [
        "# IMPORTANTE - é possível definir métodos de classe e de instância.\n",
        "\n",
        "class TesteMetodo:\n",
        "\n",
        "    atributo_classe = 0\n",
        "\n",
        "  def __init__(self):\n",
        "    self.atributo_instancia = 0\n",
        "\n",
        "  @staticmethod # MÉTODOS DE CLASSE POSSUEM O DECORATOR. Quer dizer que esse método não acessa infos específicas de uma instância.\n",
        "  def metodoClasse():\n",
        "    print(TesteMetodo.atributo_classe)\n",
        "\n",
        "  def metodoInstancia(self):  # MÉTODO DE INSTÂNCIA POSSUEM O SELF\n",
        "    print(self.atributo_instancia)\n"
      ],
      "execution_count": null,
      "outputs": [
        {
          "output_type": "stream",
          "name": "stdout",
          "text": [
            "0\n",
            "0\n",
            "1\n",
            "0\n"
          ]
        }
      ]
    },
    {
      "cell_type": "markdown",
      "metadata": {
        "id": "PSJ_t4QIJIEl"
      },
      "source": [
        "Aula 01 (B)"
      ]
    },
    {
      "cell_type": "code",
      "metadata": {
        "colab": {
          "base_uri": "https://localhost:8080/"
        },
        "id": "EHmejWIzyq2r",
        "outputId": "bb051329-d544-4b50-9036-4a1c570611d4"
      },
      "source": [
        "import math\n",
        "\n",
        "class Circ:\n",
        "\n",
        "  def area(self, r):  # o (r) não faz parte da classe, ele é apenas um parâmetro do método.\n",
        "    return math.pi*r*r\n",
        "\n",
        "c1 = Circ()\n",
        "a = c1.area(1)  # o (self) não precisa ser informado na chamada do método, pois ele vai ser passado internamente pela própria instância.\n",
        "print(a)\n",
        "\n",
        "c2 =  Circ()\n",
        "a2 = c2.area(5)\n",
        "print(a2)"
      ],
      "execution_count": null,
      "outputs": [
        {
          "output_type": "stream",
          "name": "stdout",
          "text": [
            "3.141592653589793\n",
            "78.53981633974483\n"
          ]
        }
      ]
    },
    {
      "cell_type": "markdown",
      "metadata": {
        "id": "2rFN0vQU0y8S"
      },
      "source": [
        "# Self\n",
        "O self é um parâmetro para acessar a própria instância. \n",
        "\n",
        "Ele é obrigatório em métodos de instância.\n",
        "\n",
        "Sempre será o primeiro (ou único) na lista de parâmetros.\n",
        "\n",
        "Não necessariamente precisa se chamar o self, mas é uma convenção mais utilizada porque ajuda a deixar o código mais legível."
      ]
    },
    {
      "cell_type": "markdown",
      "metadata": {
        "id": "E2Gxx-e9IZH2"
      },
      "source": [
        "# Método CONSTRUTOR/INICIALIZADOR"
      ]
    },
    {
      "cell_type": "code",
      "metadata": {
        "colab": {
          "base_uri": "https://localhost:8080/"
        },
        "id": "TFB6gJVe19e6",
        "outputId": "34330cd1-eafd-484a-e207-b39305c7d6db"
      },
      "source": [
        "# Método CONSTRUTOR/INICIALIZADOR\n",
        "\n",
        "# __new__ cria uma instância da classe.\n",
        "# __init__ é o método que instancializa/modifica/constroe os valores de instância da classe.\n",
        "\n",
        "import math\n",
        "\n",
        "class Circ:\n",
        "\n",
        "  def __init__(self, x=0.0, y=0.0, r=1.0): # é possível definir valores padrão para os parâmetros.\n",
        "    self.x = x\n",
        "    self.y = y\n",
        "    self.r = r\n",
        "\n",
        "  def area(self):\n",
        "    return math.pi * self.r * self.r\n",
        "\n",
        "c1 = Circ(10, 10, 10) \n",
        "a = c1.area()\n",
        "print(a)\n",
        "print(c1.x, c1.y, c1.r) # é possível dar um print nas próprias variáveis do objeto.\n",
        "\n",
        "c2 = Circ(5, 5, 5) \n",
        "b = c2.area()\n",
        "print(b)\n",
        "print(c2.x, c2.y, c2.r)\n",
        "\n",
        "c3 = Circ() # inicializando usando os valores padrão do método.\n",
        "print(c3.x, c3.y, c3.r)"
      ],
      "execution_count": null,
      "outputs": [
        {
          "output_type": "stream",
          "name": "stdout",
          "text": [
            "314.1592653589793\n",
            "10 10 10\n",
            "78.53981633974483\n",
            "5 5 5\n",
            "0.0 0.0 1.0\n"
          ]
        }
      ]
    },
    {
      "cell_type": "markdown",
      "metadata": {
        "id": "tVu6Lu5_IWtr"
      },
      "source": [
        "# MÉTODOS ESPECIAIS\n",
        "\n",
        "Métodos já disponíveis no python.\n",
        "\n",
        "Fáceis de identificar porque sempre começam ou terminam com duble underscores (\"dunder methods\")."
      ]
    },
    {
      "cell_type": "code",
      "metadata": {
        "id": "OMP9aWJhCvzW"
      },
      "source": [
        "__init__(self [,arg s...])  # Inicialização de um objeto.\n",
        "__del__(self)  # Destrutor. Define o que deve ser feito depois que o objeto for retirado da memória pelo garbage collector.\n",
        "__str__(self)   # Comportamento ao se chamar como str(). Como podemos imprimir nosso objeto como string quando for necessário.\n",
        "__cmp__(self, x)   # Comparação com outros objetos de um determinado tipo."
      ],
      "execution_count": null,
      "outputs": []
    },
    {
      "cell_type": "code",
      "metadata": {
        "colab": {
          "base_uri": "https://localhost:8080/"
        },
        "id": "TheeVL6QEUsE",
        "outputId": "bc449017-9896-4aac-ff89-15cbb49a9d4f"
      },
      "source": [
        "import math\n",
        "\n",
        "class Circ:\n",
        "\n",
        "  def __init__(self, x=0.0, y=0.0, r=1.0):\n",
        "    self.x = x\n",
        "    self.y = y\n",
        "    self.r = r\n",
        "\n",
        "  def area(self):\n",
        "    return math.pi * self.r * self.r\n",
        "\n",
        "  def __str__(self):\n",
        "    return \"Circunferência: \" + str(self.x) + \", \" + str(self.y) + \", \" + str(self.r)\n",
        "\n",
        "c1 = Circ(2,2,2)\n",
        "print(c1)    # aqui eu chamei com string o objeto c1."
      ],
      "execution_count": null,
      "outputs": [
        {
          "output_type": "stream",
          "name": "stdout",
          "text": [
            "Circunferência: 2, 2, 2\n"
          ]
        }
      ]
    },
    {
      "cell_type": "markdown",
      "metadata": {
        "id": "neo3wjE6ISkv"
      },
      "source": [
        "# ENCAPSULAMENTO\n",
        "\n",
        "O principal o objetivo é conseguir separar os métodos e dados em públicos e privados.\n",
        "\n",
        "Escopo de acesso -> região de um programa em que o membro pode ser referenciado.\n",
        "\n",
        "Definidos pelo underscores (_).\n",
        "\n",
        "Python não possui palavras chaves como Java.\n",
        "\n"
      ]
    },
    {
      "cell_type": "code",
      "metadata": {
        "id": "ouEvc5PgFRqf"
      },
      "source": [
        "#   Sintaxe   |     Notação     |            Comportamento\n",
        "#    nome     |     Public      |  Podem ser acessados dentro e fora da classe.\n",
        "#   _nome     |    Protected    |  Somente podem ser acessados por classes na hierarquia.\n",
        "#  __nome     |     Private     |  Não poder ser acessados fora da classe.\n"
      ],
      "execution_count": null,
      "outputs": []
    },
    {
      "cell_type": "code",
      "metadata": {
        "colab": {
          "base_uri": "https://localhost:8080/",
          "height": 200
        },
        "id": "mXaHhZYBGu1D",
        "outputId": "691fe2bc-fbd4-450d-a5c7-1b40dfb9100b"
      },
      "source": [
        "import math\n",
        "\n",
        "class Circ:\n",
        "\n",
        "  def __init__(self, x=0.0, y=0.0, r=1.0):\n",
        "    self.x = x\n",
        "    self.y = y\n",
        "    self.r = r\n",
        "\n",
        "  def __area(self):          # PRIVADO - não consegue acessar a partir de uma instânciação da classe. Apenas na classe.\n",
        "    return math.pi * self.r * self.r\n",
        "\n",
        "  def dist(self, circ):        # PÚBLICO\n",
        "    return math.sqrt((self.x-circ.x)**2 + (self.y-circ.y)**2)\n",
        "\n",
        "  def __str__(self):\n",
        "    return \"Circunferência: \" + str(self.x) + \", \" + str(self.y) + \", \" + str(self.r)\n",
        "\n",
        "c1 = Circ()\n",
        "a = c1.area()"
      ],
      "execution_count": null,
      "outputs": [
        {
          "output_type": "error",
          "ename": "AttributeError",
          "evalue": "ignored",
          "traceback": [
            "\u001b[0;31m---------------------------------------------------------------------------\u001b[0m",
            "\u001b[0;31mAttributeError\u001b[0m                            Traceback (most recent call last)",
            "\u001b[0;32m<ipython-input-2-128db1b8f6e8>\u001b[0m in \u001b[0;36m<module>\u001b[0;34m()\u001b[0m\n\u001b[1;32m     18\u001b[0m \u001b[0;34m\u001b[0m\u001b[0m\n\u001b[1;32m     19\u001b[0m \u001b[0mc1\u001b[0m \u001b[0;34m=\u001b[0m \u001b[0mCirc\u001b[0m\u001b[0;34m(\u001b[0m\u001b[0;34m)\u001b[0m\u001b[0;34m\u001b[0m\u001b[0;34m\u001b[0m\u001b[0m\n\u001b[0;32m---> 20\u001b[0;31m \u001b[0ma\u001b[0m \u001b[0;34m=\u001b[0m \u001b[0mc1\u001b[0m\u001b[0;34m.\u001b[0m\u001b[0marea\u001b[0m\u001b[0;34m(\u001b[0m\u001b[0;34m)\u001b[0m\u001b[0;34m\u001b[0m\u001b[0;34m\u001b[0m\u001b[0m\n\u001b[0m",
            "\u001b[0;31mAttributeError\u001b[0m: 'Circ' object has no attribute 'area'"
          ]
        }
      ]
    },
    {
      "cell_type": "markdown",
      "metadata": {
        "id": "3U0ePVCd84mW"
      },
      "source": [
        "# Exercício 01 - Retângulos"
      ]
    },
    {
      "cell_type": "code",
      "metadata": {
        "colab": {
          "base_uri": "https://localhost:8080/"
        },
        "id": "4VYNGi7zVBOl",
        "outputId": "9bcd3944-c397-4502-ffd5-62678ded0719"
      },
      "source": [
        "# Exercício 01 - Retângulos\n",
        "\n",
        "class Ponto2D:\n",
        "\n",
        "    def __init__(self, x=0.0, y=0.0):\n",
        "      self.x = x\n",
        "      self.y = y\n",
        "    pass\n",
        "\n",
        "class Retangulo:\n",
        "\n",
        "    def __init__(self, esq_sup, dir_inf):\n",
        "      self.__esq_sup = esq_sup\n",
        "      self.__dir_inf = dir_inf\n",
        "    pass\n",
        "\n",
        "    @property\n",
        "    def esq_sup(self):\n",
        "      return self.__esq_sup\n",
        "    \n",
        "    @property\n",
        "    def dir_inf(self):\n",
        "      return self.__dir_inf\n",
        "    \n",
        "    @property\n",
        "    def width(self):\n",
        "      return self.__dir_inf.x - self.__esq_sup.x\n",
        "\n",
        "    @property\n",
        "    def height(self):\n",
        "      return self.__esq_sup.y - self.__dir_inf.y\n",
        "\n",
        "    def calcularArea(self):\n",
        "      area = (self.__dir_inf.x - self.__esq_sup.x) * (self.__esq_sup.y - self.__dir_inf.y)\n",
        "      return area\n",
        "\n",
        "    def calcularIntersecao(self, ret):\n",
        "        esq_sup_ret = ret.esq_sup\n",
        "        dir_inf_ret = ret.dir_inf\n",
        "        \n",
        "        if esq_sup_ret.y > self.dir_inf.y and esq_sup_ret.x < self.dir_inf.x and dir_inf_ret.y < self.esq_sup.y and dir_inf_ret.x > self.esq_sup.x:\n",
        "            if self.esq_sup.x > esq_sup_ret.x:\n",
        "                width_inter = abs(self.esq_sup.x - dir_inf_ret.x)\n",
        "            else:\n",
        "                width_inter = abs(esq_sup_ret.x - self.dir_inf.x)\n",
        "                \n",
        "            if self.dir_inf.y > dir_inf_ret.y:\n",
        "                h_inter = abs(esq_sup_ret.y - self.dir_inf.y)\n",
        "            else:\n",
        "                h_inter = abs(self.esq_sup.y - dir_inf_ret.y)\n",
        "            \n",
        "            if esq_sup_ret.y < self.esq_sup.y and dir_inf_ret.y > self.dir_inf.y:\n",
        "                h_inter = abs(esq_sup_ret.y - dir_inf_ret.y)\n",
        "            \n",
        "            if esq_sup_ret.x > self.esq_sup.x and dir_inf_ret.x < self.dir_inf.x:\n",
        "                width_inter = abs(esq_sup_ret.x - dir_inf_ret.x)\n",
        "            \n",
        "            return width_inter * h_inter\n",
        "        else:\n",
        "            return None\n",
        "\n",
        "r1_esq_sup = Ponto2D(-6.5, 5.0)\n",
        "r1_dir_inf = Ponto2D(-2.0, 2.5)\n",
        "ret1 = Retangulo(r1_esq_sup, r1_dir_inf)\n",
        "area1 = ret1.calcularArea() \n",
        "print(\"%.2f %.2f %.2f\" % (ret1.width, ret1.height, area1))\n",
        " \n",
        "r2_esq_sup = Ponto2D(-4.5, 4.0)\n",
        "r2_dir_inf = Ponto2D(-1.0, -1.0)\n",
        "ret2 = Retangulo(r2_esq_sup, r2_dir_inf)\n",
        "area2 = ret2.calcularArea()\n",
        "print(\"%.2f %.2f %.2f\" % (ret2.width, ret2.height, area2))\n",
        "\n",
        "intersecao = ret1.calcularIntersecao(ret2)\n",
        "print(intersecao)"
      ],
      "execution_count": null,
      "outputs": [
        {
          "output_type": "stream",
          "name": "stdout",
          "text": [
            "4.50 2.50 11.25\n",
            "3.50 5.00 17.50\n",
            "3.75\n"
          ]
        }
      ]
    },
    {
      "cell_type": "markdown",
      "metadata": {
        "id": "BRSaRZiIJv37"
      },
      "source": [
        "Aula 02 (A)"
      ]
    },
    {
      "cell_type": "markdown",
      "metadata": {
        "id": "LHXX-EG080wk"
      },
      "source": [
        "# COMPOSIÇÃO E HERANÇA"
      ]
    },
    {
      "cell_type": "markdown",
      "metadata": {
        "id": "uZGwKTN1JzNp"
      },
      "source": [
        "### **COMPOSIÇÃO**\n",
        "Cria uma nova classe que possui objetos de outra classe de menor complexidade.\n",
        "\n",
        "Essas outras classes vão ser usadas a partir de suas interfaces públicas."
      ]
    },
    {
      "cell_type": "code",
      "metadata": {
        "id": "_pCyBcU_J9em"
      },
      "source": [
        "#exemplo 1 \n",
        "class Autor:\n",
        "  def __init__(self, nome, cpf):\n",
        "    self.nome = nome\n",
        "    self.cpf = cpf\n",
        "\n",
        "class Livro:\n",
        "\n",
        "  def __init__(self, titulo, ano, autor):\n",
        "    self.titulo = titulo\n",
        "    self.ano = ano\n",
        "    self.autor = autor    # perceba que classe livro recebeu \"autor\" como um dos atributos que foi gerado por outra classe.\n",
        "\n",
        "  def __str__(self):\n",
        "    return \"Título: \" + self.titulo + \" Autor: \" + self.autor.nome"
      ],
      "execution_count": null,
      "outputs": []
    },
    {
      "cell_type": "code",
      "metadata": {
        "id": "3AekZp6XKAHR"
      },
      "source": [
        "#exemplo 2 - Composição recursiva - # uma classe pode ter uma relação com objetos do próprio tipo da classe.\n",
        "class Autor:\n",
        "  def __init__(self, nome, cpf):\n",
        "    self.nome = nome\n",
        "    self.cpf = cpf\n",
        "\n",
        "    self.colaboradores = [] # aqui tem a lista de colaboradores com outros autores da própria classe.\n",
        "\n",
        "  def adicionar_colaborador(self, colaborador):\n",
        "    self.colaboradores.append(colaborador)\n",
        "\n",
        "  def __repr__(self):   # __repr__ é utilizado para representar o nosso objeto como uma String.\n",
        "    return \"Nome: %s CPF: %s\" % (self.nome, self.cpf)"
      ],
      "execution_count": null,
      "outputs": []
    },
    {
      "cell_type": "markdown",
      "metadata": {
        "id": "ZfKmSVLYKCge"
      },
      "source": [
        "### **HERANÇA**\n",
        "Reutiliza características de uma classe na definição de outra classe.\n",
        "\n",
        "Determina a Hierarquia de classes.\n",
        "\n",
        "• Superclasses (classe pai)\n",
        "\n",
        "    Devem guardar membros em comum\n",
        "\n",
        "• Subclasses (classes filhas)\n",
        "\n",
        "    Acrescentam novos membros (especializam)\n",
        "\n",
        "• Reutilização de código\n",
        "\n",
        "    Compartilhar similaridades\n",
        "    Preservar as diferenças\n",
        "\n",
        "• Membros são herdados pelas classes dos níveis mais baixos\n",
        "\n",
        "    Considerando o nível de acesso\n",
        "\n",
        "• Subclasses podem herdar membros de:\n",
        "\n",
        "    Uma única superclasse (Java) -> Herança simples\n",
        "    Várias superclasses (C++, Python) -> Herança múltipla\n",
        "\n",
        "• O relacionamento é informado na declaração da classe\n",
        "\n",
        "    class ClasseDerivada(ClasseBase1, ClasseBase2, …)\n",
        "\n",
        "\n",
        "Se uma classe não herda diretamente de outra classe, ela então herda de object\n",
        " - Essa herança é feita de forma implícita\n",
        "\n",
        "Superclasse de nível mais alto da linguagem\n",
        "\n",
        "Object\n",
        "    Possui métodos e atributos padrão\n",
        "\n",
        "o = object()\n",
        "\n",
        "dir(o)\n",
        "\n",
        "['__class__', '__delattr__', '__dir__', '__doc__', '__eq__',\n",
        "'__format__', '__ge__', '__getattribute__', '__gt__', '__hash__',\n",
        "'__init__', '__init_subclass__', '__le__', '__lt__', '__ne__', '__new__',\n",
        "'__reduce__', '__reduce_ex__', '__repr__', '__setattr__', '__sizeof__',\n",
        "'__str__', '__subclasshook__']"
      ]
    },
    {
      "cell_type": "code",
      "metadata": {
        "id": "_cHg1dqaKhmS"
      },
      "source": [
        "#exemplo 1\n",
        "class Personagem:\n",
        "  def mover(self):\n",
        "    print(\"Movendo...\")\n",
        "  def interagir(self):\n",
        "    print(\"Interagindo...\")\n",
        "\n",
        "class Medico(Personagem):\n",
        "  def curar(self):\n",
        "    print(\"Curando...\")\n",
        "\n",
        "class Guerreiro(Personagem):\n",
        "  def atacar(self):\n",
        "    print(\"Atacando...\")"
      ],
      "execution_count": null,
      "outputs": []
    },
    {
      "cell_type": "markdown",
      "metadata": {
        "id": "BsGGrKQoLBJt"
      },
      "source": [
        "# Princípio da Substituição de Liskov (LSP)\n",
        "\n",
        "Se S é um subtipo de T, objetos do tipo T podem ser substituídos por objetos\n",
        "do tipo S sem alterar nenhuma das propriedades desejadas do programa.\n",
        "exemplo: onde é esperado \"aluno\" eu posso passar \"aluno de graduação\"\n",
        "\n",
        "Contrato de uma classe\n",
        "\n",
        "* Encapsulamento → Interface\n",
        "\n",
        "* Coleção de atributos e métodos visíveis\n",
        "\n",
        "      Membros privados não fazem parte do contrato\n",
        "\n",
        "Subcontratação\n",
        "\n",
        "* Subclasse estende o contrato da superclasse\n",
        "\n",
        "* Contrato redefinido não pode violar o contrato da superclasse"
      ]
    },
    {
      "cell_type": "markdown",
      "metadata": {
        "id": "GeXxGTyaLZIp"
      },
      "source": [
        "# Duck Typing\n",
        "\n",
        "Linguagens OO (diferente de Python)\n",
        "\n",
        "* Geralmente verificam o contrato a partir da herança (estaticamente tipadas).\n",
        "\n",
        "* Interface única → Múltiplos comportamentos (polimorfismo).\n",
        "\n",
        "Python\n",
        "\n",
        "* Não é necessário herdar uma classe para definir um comportamento padrão.\n",
        "\n",
        "* Qualquer objeto que atenda à um determinado contrato poderá ser usado.\n",
        "\n",
        "\n",
        "ENTÃO Por que eu deveria utilizar herança?\n",
        "\n",
        "• Reúso de código\n",
        "\n",
        "    Comportamentos gerais implementados uma única vez.\n",
        "\n",
        "    Manutenção → Alterações em poucas partes do código.\n",
        "\n",
        "• Contrato explícito\n",
        "\n",
        "    Maior legibilidade do código existente.\n",
        "\n",
        "    Todo o contrato deve ser cumprido, não apenas partes.\n",
        "\n",
        "Considerações Finais\n",
        "\n",
        "• Composição\n",
        "\n",
        "    Relação do tipo “tem um” (has-a)\n",
        "\n",
        "    Objeto possui objetos (≥ 1) de outras classes\n",
        "\n",
        "    Livro tem um Autor\n",
        "\n",
        "• Herança\n",
        "\n",
        "    Relação do tipo “é um” (is-a)\n",
        "\n",
        "    Subclasse tratado como a Superclasse (LSP)\n",
        "    \n",
        "    Triângulo é um Polígono "
      ]
    },
    {
      "cell_type": "markdown",
      "metadata": {
        "id": "iBi6xVfIMcpo"
      },
      "source": [
        "Aula 02 (B)"
      ]
    },
    {
      "cell_type": "markdown",
      "metadata": {
        "id": "lnP0qwQYMfDk"
      },
      "source": [
        "**Quando usar Composição ou Herança?**\n",
        "\n",
        "Composição - O TipoB deseja apenas utilizar parte do comportamento exposto pelo TipoA.\n",
        "\n",
        "Herança - O TipoB vai manter todo o contrato do TipoA e acrescentar novos comportamentos."
      ]
    },
    {
      "cell_type": "markdown",
      "metadata": {
        "id": "1vdMBvNlMmHG"
      },
      "source": [
        "**Inicialização**\n",
        "\n",
        "• Classes derivadas podem ter métodos inicializadores específicos.\n",
        "\n",
        "• Métodos de inicialização com parâmetros da superclasse devem ser\n",
        "chamados explicitamente, caso contrário será usado o local apenas.\n",
        "\n",
        "Pode usar ClasseBase ou super()\"\"\""
      ]
    },
    {
      "cell_type": "code",
      "metadata": {
        "id": "XRB_9OGL9EE0"
      },
      "source": [
        "class ClasseDerivada(ClasseBase)\n",
        "  def __init__(self):\n",
        "    ClasseBase.__init__(self, parametros)\n",
        "\n",
        "class ClasseDerivada(ClasseBase)\n",
        "  def __init__(self):\n",
        "    super().__init__(parametros)\n"
      ],
      "execution_count": null,
      "outputs": []
    },
    {
      "cell_type": "markdown",
      "metadata": {
        "id": "i7oIGJr4b3Uk"
      },
      "source": [
        "#Herança Simples \n",
        "\n",
        "Herança vs. Encapsulamento\n",
        "\n",
        "    Membros private fazem parte do objeto da subclasse.\n",
        "\n",
        "    Não são diretamente acessíveis pois pertencem ao escopo da superclasse.\n",
        "\n",
        "    Atenção: Python não possui membros efetivamente privados, o uso do double underscore é um alerta que você não deveria tentar manipular aquele membro de fora da classe.\n",
        "\n",
        "Name mangling\n",
        "\n",
        "    Resolução de conflitos entre classes da hierarquia."
      ]
    },
    {
      "cell_type": "code",
      "metadata": {
        "id": "QiegedTBb7BI"
      },
      "source": [
        "class Derivada(Base):\n",
        "  def bar(self):\n",
        "    self._Base__private()"
      ],
      "execution_count": null,
      "outputs": []
    },
    {
      "cell_type": "markdown",
      "metadata": {
        "id": "hERwNyILb_wZ"
      },
      "source": [
        "# Getters e Setters\n",
        "\n",
        "• Evitar a manipulação direta de atributos\n",
        "\n",
        "    Acesso deve ser o mais restrito possível → Private\n",
        "\n",
        "• Utilizar métodos auxiliares\n",
        "\n",
        "    Get\n",
        "      Métodos que permitem apenas o acesso de consulta (obter) a valores\n",
        "    Set\n",
        "      Métodos que permitem a alteração (definir) e atribuição de valores\n",
        "\n",
        "• Facilita o controle e manutenção do sistema \n",
        "\n",
        "\n",
        "Em Python vamos utilizar properties!"
      ]
    },
    {
      "cell_type": "markdown",
      "metadata": {
        "id": "bqv7EmnmcMDy"
      },
      "source": [
        "# Herança Múltipla\n",
        "\n",
        "• Subclasse pode ter várias Superclasses\n",
        "\n",
        "• Deve ser usada com muito cuidado\n",
        "\n",
        "    Comportamentos não desejados\n",
        "    Redução da modularização (super objetos)\n",
        "\n",
        "• Conflitos de nomes de membros\n",
        "\n",
        "• Method Resolution Order (MRO)\n",
        "\n",
        "    Regras utilizadas para determiner a chamada de acordo com a declaração."
      ]
    },
    {
      "cell_type": "markdown",
      "metadata": {
        "id": "0JWM172Hcrj5"
      },
      "source": [
        "# Abstract Base Classes (abc)\n",
        "\n",
        "• Classes que possuem um ou mais métodos abstratos\n",
        "\n",
        "• Métodos Abstratos\n",
        "\n",
        "    Possuem apenas a assinatura, mas nenhuma implementação\n",
        "\n",
        "• Classes abstratas não pode ser instanciadas\n",
        "\n",
        "    Usadas na implementação de outra classe\n",
        "    Subclasses devem fornecer implementações para os métodos abstratos\n",
        "\n",
        "• É necessário utilizar um módulo para especificar Classes Abstratas\n"
      ]
    },
    {
      "cell_type": "code",
      "metadata": {
        "id": "vV3-fp8gcs-U"
      },
      "source": [
        "from abc import ABC, abstractmethod\n",
        "\n",
        "class AbstractClass(ABC): # ABC <- não pode ser instanciada!\n",
        "    @abstractmethod   # <- precisa ser implementado!\n",
        "    def do_something(self):\n",
        "      pass\n",
        "\n",
        "class ConcreteClass(AbstractClass):\n",
        "    def do_something(self):\n",
        "      pass"
      ],
      "execution_count": null,
      "outputs": []
    },
    {
      "cell_type": "markdown",
      "metadata": {
        "id": "T7wm7kD5PLqO"
      },
      "source": [
        "Considerações Finais\n",
        "\n",
        "Herança: objetivos fundamentais\n",
        "\n",
        "• Reúso\n",
        "\n",
        "    Escreva código em comum uma vez apenas\n",
        "\n",
        "• Extensão\n",
        "\n",
        "    Adicione novas responsabilidades (membros)\n",
        "\n",
        "• Especialização\n",
        "\n",
        "    Redefina responsabilidades existentes\n",
        "\n",
        "    Classe Base → Classe Derivada"
      ]
    },
    {
      "cell_type": "markdown",
      "metadata": {
        "id": "sjqSjacMtde3"
      },
      "source": [
        "# Exercício 02 - Conta Bancária"
      ]
    },
    {
      "cell_type": "code",
      "metadata": {
        "id": "4_oamrN6tZJ4"
      },
      "source": [
        "# Exercício 2 - Conta Bancária - 100%\n",
        "\n",
        "class Conta():\n",
        "\n",
        "    def __init__(self, num):\n",
        "      self.__num = num\n",
        "      self.__saldo = 0.0\n",
        "\n",
        "    def depositar(self, valor):\n",
        "      self.__saldo += valor\n",
        "\n",
        "    def sacar(self, valor):\n",
        "      self.__saldo -= valor\n",
        "    \n",
        "    @property\n",
        "    def saldo(self):\n",
        "      return self.__saldo\n",
        "\n",
        "class ContaCorrente(Conta):\n",
        "\n",
        "    def __init__(self, num, taxa):\n",
        "      super().__init__(num)\n",
        "      self.__taxa = taxa\n",
        "\n",
        "    def cobrar_taxa(self):\n",
        "      self.sacar(self.__taxa)\n",
        "\n",
        "class ContaPoupanca(Conta):\n",
        "    def __init__(self, num, juros):\n",
        "      super().__init__(num)\n",
        "      self.__juros = juros\n",
        "\n",
        "    def aplicar_juros(self):\n",
        "      self.depositar(self.saldo * self.__juros)\n",
        "\n",
        "conta_corrente = ContaCorrente(1, 1.50)\n",
        "conta_corrente.depositar(10)\n",
        "conta_corrente.cobrar_taxa()"
      ],
      "execution_count": null,
      "outputs": []
    },
    {
      "cell_type": "markdown",
      "metadata": {
        "id": "KuYR7mLmPzLS"
      },
      "source": [
        "Aula 03 (A)"
      ]
    },
    {
      "cell_type": "markdown",
      "metadata": {
        "id": "dBFYwec6JTYk"
      },
      "source": [
        "# Polimorfismo\n",
        "\n",
        "Chamada única (mensagem) → Diferentes comportamentos.\n",
        "\n",
        "Classes diferentes respondem de várias maneiras à mesma mensagem.\n",
        "\n",
        "**POLIMORFISMO AD-HOC OU VERDADEIRO**\n",
        "\n",
        "    Quando uma função ou tipo parece trabalhar para tipos diferentes\n",
        "    Pode se comportar de formas diferentes para cada tipo\n",
        "\n",
        "**COERÇÃO**\n",
        "\n",
        "Conversão de tipo\n",
        "\n",
        "    Implícita: Feita pelo próprio interpretador Python\n",
        "    Explícita: Informada pelo programador\n",
        "\n",
        "Utilizada para satisfazer o contexto atual\n",
        "\n",
        "Evitar perda de precisão\n",
        "\n",
        "Widening conversions (promoção)\n",
        "\n",
        "  Menor para maior número de bits de armazenamento\n",
        "\n",
        "  bool ⇒ int ⇒ float \"\"\""
      ]
    },
    {
      "cell_type": "code",
      "metadata": {
        "id": "ym1JHsTaP186"
      },
      "source": [
        "# exemplo 1\n",
        "num_int = 123\n",
        "num_flo = 1.23\n",
        "num_new = num_int + num_flo\n",
        "print(\"Tipo num_int:\", type(num_int))\n",
        "print(\"Tipo num_flo:\", type(num_flo))\n",
        "print(\"Valor num_new:\",num_new)\n",
        "print(\"Tipo num_new:\",type(num_new))"
      ],
      "execution_count": null,
      "outputs": []
    },
    {
      "cell_type": "code",
      "metadata": {
        "id": "h3cyLw0TP5Hn"
      },
      "source": [
        "#exemplo 2\n",
        "num_int = 123\n",
        "num_str = \"456\"\n",
        "print(\"Tipo num_int:\",type(num_int))\n",
        "print(\"Tipo num_str:\",type(num_str))\n",
        "print(num_int+num_str)   # PYTHON NÃO CONSEGUE FAZER ESSA CONVERSÃO IMPLICITAMENTE"
      ],
      "execution_count": null,
      "outputs": []
    },
    {
      "cell_type": "markdown",
      "metadata": {
        "id": "B21iRICtP8NU"
      },
      "source": [
        "SOBRECARGA\n",
        "\n",
        "Mesmo identificador denota diferentes funções\n",
        "\n",
        "    Grupo de funções que operam sobre tipos distintos\n",
        "\n",
        "Python\n",
        "\n",
        "    Um único método pode ser chamado de diferentes maneiras\n",
        "  \n",
        "Número variável (indefinido) de argumentos para uma função\n",
        "\n",
        "    *args (non-keyworded arguments)\n",
        "    **kwargs (keyworded arguments)\n",
        "\n",
        "Os argumentos args e kwargs podem ter qualquer nome (convenção), o importante é o unpacking operator utilizado como precedente\n",
        "\n",
        "    (*) to unpack iterables (interáveis)\n",
        "    (**) to unpack dictionaries (dicionários)\n",
        "\n",
        "A declaração deve seguir uma ordem específica\n",
        "    def my_function(a, b, *args, **kwargs)\"\"\""
      ]
    },
    {
      "cell_type": "code",
      "metadata": {
        "id": "QuwJJ5FIQKeK"
      },
      "source": [
        "#exemplo 1\n",
        "def somatorio(*args):\n",
        "  soma = 0\n",
        "  for n in args:\n",
        "    soma += n\n",
        "  return soma\n",
        "print(somatorio(1, 2, 3))"
      ],
      "execution_count": null,
      "outputs": []
    },
    {
      "cell_type": "code",
      "metadata": {
        "id": "NpMnGQTbJHJ5"
      },
      "source": [
        "#exemplo 2\n",
        "def print_info(**kwargs):\n",
        "  for key, value in kwargs.items():\n",
        "    print(\"%s: %s\" % (key, value))\n",
        "print_info(Nome=\"João\", Sobrenome=\"Silva\", Idade=18) \n"
      ],
      "execution_count": null,
      "outputs": []
    },
    {
      "cell_type": "markdown",
      "metadata": {
        "id": "8ndsPm1-QN1v"
      },
      "source": [
        "Aula 03 (B)"
      ]
    },
    {
      "cell_type": "markdown",
      "metadata": {
        "id": "Do5v3Wp7QUKb"
      },
      "source": [
        "**POLIMORFISMO UNIVERSAL OU VERDADEIRO ou DINÂMICO**\n",
        "\n",
        "    Quando uma função ou tipo trabalha de maneira uniforme para uma gama de tipos definidos na linguagem.\n",
        "    Uma mesma definição (código) pode ser utilizada por diferentes tipos.\n",
        "    Potencialmente número infinito de variações.\n",
        "    Em tempo de execução (run time).\n",
        "\n",
        "**POLIMORFISMO PARAMÉTRICO**\n",
        "    Quando temos uma função que recebe diferentes tipos e atua de maneiro uniformes.\n",
        "    O tipo pode ser informado de maneira implícita ou explícita.\n",
        "\n",
        "**POLIMORFISMO DE INCLUSÃO**\n",
        "\n",
        "  Modela subtipos e herança\n",
        "\n",
        "    Redefinição em classes descendentes\n",
        "    O subtipo está incluído no próprio tipo\n",
        "\n",
        "  Princípio da Substituição de Liskov\n",
        "\n",
        "    Se um objeto de um tipo for esperado, um do subtipo deve ser aceito\n",
        "    O contrário nem sempre é válido!\n",
        "\n",
        "**Duck Typing**\n",
        "\n",
        "    Subtipagem Nominal vs. Comportamental\n",
        "    Apesar dos comportamentos parecidos, não possuem nenhum relacionamento\n",
        "    Any operation that can be performed, will be performed!\n",
        "\n",
        "**Herança**\n",
        "\n",
        "    Reúso de código\n",
        "    Contrato explícito\n",
        "    Relacionamento estrutural\n",
        "\n",
        "**Sobrescrita**\n",
        "\n",
        "    Uma subclasse pode fornecer uma implementação específica de um método que está definido em uma de suas superclasses.\n",
        "\n",
        "    Métodos podem ser sobrescritos (override).\n",
        "      Diferente de sobrecarga! (overload)\n",
        "    Programação voltada a tipos abstratos\n",
        "      Independência de implementação → Foco no contrato\n",
        "\n",
        "**DESIGN PATTERN**\n",
        "\n",
        "Solução estruturais para problemas recorrentes\n",
        "\n",
        "    Como um “Livro de Receitas” → Não são algoritmos!\n",
        "\n",
        "Aprender com as experiências dos outros\n",
        "\n",
        "    Abordagens bem testadas e documentadas\n",
        "\n",
        "Template Method\n",
        "\n",
        "    Comportamental → distribuição de responsabilidades entre classes e objetos.\n",
        "\n",
        "    Subclasses redefinem etapas de um algoritmo sem alterar a estrutura geral"
      ]
    },
    {
      "cell_type": "markdown",
      "metadata": {
        "id": "vvOeqZg-Edp3"
      },
      "source": [
        "# Exercício 03 - E-commerce"
      ]
    },
    {
      "cell_type": "code",
      "metadata": {
        "id": "Zl52r8NOqon2"
      },
      "source": [
        "# Exercício 03 - E-commerce\n",
        "\"\"\"\n",
        "Implemente uma classe chamada CestaCompras para representar os itens de um cliente em um e-commerce.\n",
        "Essa classe deve possuir um dicionário chamado itens que guarda um determindo Item e a quantidade desse item na cesta.\n",
        "Essa classe deve ter os seguintes métodos públicos:\n",
        "\n",
        "1) adicionar_item(item, qtde): recebe um objeto do tipo Item e a quantidade a ser guardada.\n",
        "\n",
        "2) relatorio_final(): que imprime as seguintes informacões na tela:\n",
        "\n",
        "<valor_total_compra_desconto>\n",
        "\n",
        "<tipo_item, nome, quantidade, valor_unitario, total_sem_desconto, total_com_desconto>\n",
        "\n",
        "Onde:\n",
        "\n",
        "<valor_total_compra_desconto>: é o somatório de todos os itens já com o desconto aplicado\n",
        "\n",
        "<tipo_item>: Livro, Brinquedo, Eletronico\n",
        "\n",
        "<total_sem_desconto>: o somatorio daquele item especificamente, antes do desconto\n",
        "\n",
        "<total_com_desconto>: o somatorio daquele item especificamente, depois do desconto\n",
        "\n",
        "O Item recebe no método inicializador o nome, valor daquele item (que devem ser salvos em atributos privados).\n",
        "A classe Item deve ser especializada em três subclasses: Livro, Brinquedo, Eletronico.\n",
        "Cada classe dessa possui um determinado valor de desconto específico e constante sendo:\n",
        "\n",
        "Livro: 3%\n",
        "Brinquedo: 5%\n",
        "Eletronico: 8%\n",
        "Obs: Você pode implementar outros métodos que julgar necessários ou úteis.\n",
        "\n",
        "Um exemplo de chamada é:\n",
        "\n",
        "livro1 = Livro(\"Senhor dos Aneis\", 15.00)\n",
        "brinq1 = Brinquedo(\"Carrinho\", 12.99)\n",
        "\n",
        "cesta = CestaCompras()\n",
        "cesta.adicionar_item(livro1, 3)\n",
        "cesta.adicionar_item(brinq1, 4)\n",
        " \n",
        "cesta.relatorio_final()\n",
        "\n",
        "Saída esperada:\n",
        "\n",
        "93.01\n",
        "Livro, Senhor dos Aneis, 3, 15.00, 45.00, 43.65\n",
        "Brinquedo, Carrinho, 4, 12.99, 51.96, 49.36"
      ],
      "execution_count": null,
      "outputs": []
    },
    {
      "cell_type": "code",
      "metadata": {
        "colab": {
          "base_uri": "https://localhost:8080/"
        },
        "id": "srlxgstk5FTH",
        "outputId": "db8a1cbd-c8cd-4238-fb93-0c240cffcab2"
      },
      "source": [
        "# Exercício 03 - E-commerce\n",
        "\n",
        "class Item():\n",
        "  def __init__(self, nome, valor):\n",
        "    self.__nome = nome\n",
        "    self.__valor = valor\n",
        "\n",
        "  @property\n",
        "  def nome(self):\n",
        "    return self.__nome\n",
        "\n",
        "  @property\n",
        "  def valor(self):\n",
        "    return self.__valor\n",
        "\n",
        "class Livro(Item):\n",
        "  def __init__(self, nome, valor):\n",
        "    super().__init__(nome, valor)\n",
        "    self.tipo = \"Livro\"\n",
        "    self.vdesc = self.valor * 0.97\n",
        "\n",
        "class Brinquedo(Item):\n",
        "  def __init__(self, nome, valor):\n",
        "    super().__init__(nome, valor)\n",
        "    self.tipo = \"Brinquedo\"\n",
        "    self.vdesc = self.valor * 0.95\n",
        "\n",
        "class Eletronico(Item):\n",
        "  def __init__(self, nome, valor):\n",
        "    super().__init__(nome, valor)\n",
        "    self.tipo = \"Eletronico\"\n",
        "    self.vdesc = self.valor * 0.92\n",
        "\n",
        "class CestaCompras():\n",
        "  def __init__(self):\n",
        "    self.itens = {}\n",
        "\n",
        "  def adicionar_item(self, item, qtde):\n",
        "    self.itens[item] = qtde                                         \n",
        "\n",
        "  def totalCompra(self):\n",
        "    total = 0\n",
        "    for item, qtde in self.itens.items():\n",
        "      total += item.vdesc * qtde\n",
        "    return round(total,2)\n",
        "\n",
        "  def relatorio_final(self):\n",
        "    print(self.totalCompra())\n",
        "    for item, qtde in self.itens.items():\n",
        "      print(f\"{item.tipo}, {item.nome}, {qtde}, {(item.valor):.2f}, {(item.valor * qtde):.2f}, {(item.vdesc * qtde):.2f}\")\n",
        "\n",
        "livro1 = Livro(\"Senhor dos Aneis\", 15.00)\n",
        "brinq1 = Brinquedo(\"Carrinho\", 12.99)\n",
        "\n",
        "cesta = CestaCompras()\n",
        "cesta.adicionar_item(livro1, 3)\n",
        "cesta.adicionar_item(brinq1, 4)\n",
        "\n",
        "cesta.totalCompra()\n",
        "\n",
        "cesta.relatorio_final()"
      ],
      "execution_count": null,
      "outputs": [
        {
          "output_type": "stream",
          "name": "stdout",
          "text": [
            "93.01\n",
            "Livro, Senhor dos Aneis, 3, 15.00, 45.00, 43.65\n",
            "Brinquedo, Carrinho, 4, 12.99, 51.96, 49.36\n"
          ]
        }
      ]
    },
    {
      "cell_type": "code",
      "metadata": {
        "colab": {
          "base_uri": "https://localhost:8080/"
        },
        "id": "GJFG53YTA9wL",
        "outputId": "9e021621-2cf3-42b9-9d01-d228fae3de4c"
      },
      "source": [
        "# Exercício 03 - E-commerce\n",
        "\n",
        "class Item():\n",
        "  def __init__(self, nome, valor):\n",
        "    self.__nome = nome\n",
        "    self.__valor = valor\n",
        "\n",
        "  @property\n",
        "  def nome(self):\n",
        "    return self.__nome\n",
        "\n",
        "  @property\n",
        "  def valor(self):\n",
        "    return self.__valor\n",
        "\n",
        "class Livro(Item):\n",
        "  def __init__(self, nome, valor):\n",
        "    super().__init__(nome, valor)\n",
        "    self.tipo = \"Livro\"\n",
        "    self.vdesc = self.valor * 0.97\n",
        "\n",
        "  #def __str__(self):\n",
        "    #return str(self.nome) + \", \" + str(self.valor) + \", \" + str(self.vdesc)\n",
        "\n",
        "\n",
        "class Brinquedo(Item):\n",
        "  def __init__(self, nome, valor):\n",
        "    super().__init__(nome, valor)\n",
        "    self.tipo = \"Brinquedo\"\n",
        "    self.vdesc = self.valor * 0.95\n",
        "    self.listaBri = [nome, valor, \"Brinquedo\", self.vdesc]\n",
        "\n",
        "  #def __str__(self):\n",
        "    #return str(self.nome) + \", \" + str(self.valor) + \", \" + str(self.vdesc)\n",
        "\n",
        "class Eletronico(Item):\n",
        "  def __init__(self, nome, valor):\n",
        "    super().__init__(nome, valor)\n",
        "    self.tipo = \"Eletronico\"\n",
        "    self.vdesc = self.valor * 0.92\n",
        "\n",
        "  #def __str__(self):\n",
        "    #return str(self.nome) + \", \" + str(self.valor) + \", \" + str(self.vdesc)\n",
        "\n",
        "class CestaCompras():\n",
        "  def __init__(self):\n",
        "    self.itens = {}\n",
        "\n",
        "  def adicionar_item(self, item, qtde):\n",
        "    self.itens[str(item)] = [item.tipo, item.nome, qtde, item.valor, (item.valor * qtde), (item.vdesc * qtde)]\n",
        "    return self.itens[str(item)]\n",
        "                                                 \n",
        "  #def __str__(self):\n",
        "    #return str(self.itens)\n",
        "\n",
        "  def totalCompra(self):\n",
        "    total = 0\n",
        "    for v in self.itens.values():\n",
        "      total += v[5]\n",
        "    return round(total,2)\n",
        "\n",
        "  def relatorio_final(self):\n",
        "    print(self.totalCompra())\n",
        "    for v in self.itens.values():\n",
        "      #print(str(v[0]) + \", \" + str(v[1]) + \", \" + str(v[2]) + \", \" + str(round(v[3], 2)) + \", \" + str(round(v[4], 2)) + \", \" + str(round(v[5], 2)))\n",
        "      print(f\"{v[0]}, {v[1]}, {v[2]}, {v[3]:.2f}, {v[4]:.2f}, {v[5]:.2f}\")\n",
        "\n",
        "livro1 = Livro(\"Senhor dos Aneis\", 15.00)\n",
        "brinq1 = Brinquedo(\"Carrinho\", 12.99)\n",
        "\n",
        "cesta = CestaCompras()\n",
        "cesta.adicionar_item(livro1, 3)\n",
        "cesta.adicionar_item(brinq1, 4)\n",
        "\n",
        "cesta.totalCompra()\n",
        "\n",
        "cesta.relatorio_final()\n"
      ],
      "execution_count": null,
      "outputs": [
        {
          "output_type": "stream",
          "name": "stdout",
          "text": [
            "93.01\n",
            "Livro, Senhor dos Aneis, 3, 15.00, 45.00, 43.65\n",
            "Brinquedo, Carrinho, 4, 12.99, 51.96, 49.36\n"
          ]
        }
      ]
    },
    {
      "cell_type": "code",
      "metadata": {
        "colab": {
          "base_uri": "https://localhost:8080/"
        },
        "id": "0e9V6jafq9aF",
        "outputId": "a311cc4b-4f4c-4d00-ad7e-cc542ed4c041"
      },
      "source": [
        "import random\n",
        "\n",
        "class Filme():\n",
        "    def __init__(self, nome, ano, genero):\n",
        "        self.__nome = nome\n",
        "        self.__ano = ano\n",
        "        self.__genero = genero\n",
        "    \n",
        "    @property\n",
        "    def nome(self):\n",
        "        return self.__nome\n",
        "    \n",
        "    @property\n",
        "    def ano(self):\n",
        "        return self.__ano\n",
        "    \n",
        "    @property\n",
        "    def genero(self):\n",
        "        return self.__genero\n",
        "    \n",
        "    def __repr__(self):\n",
        "         return \"Filme({}, {})\".format(self.__nome, self.__ano)\n",
        "\n",
        "filmes = []\n",
        "filmes.append(Filme(\"Homem-Aranha\", 2002, \"Ação/Fantasia\"))\n",
        "filmes.append(Filme(\"Cinderela\", 2021, \"Musical/Fantasia\"))\n",
        "filmes.append(Filme(\"Matrix\", 1999, \"Ficção científica/Ação\"))\n",
        "filmes.append(Filme(\"Xuxa em O Misterio de Feiurinha\", 2009, \"Horror\"))\n",
        "\n",
        "ingressos = {}\n",
        "for i in range(300):\n",
        "    aleatorio = random.randint(0, len(filmes)-1)\n",
        "    filme_escolhido = filmes[aleatorio]\n",
        "    \n",
        "    if not filme_escolhido in ingressos:\n",
        "        ingressos[filme_escolhido] = (filme_escolhido, 0)\n",
        "    \n",
        "    ingressos[filme_escolhido] = (filme_escolhido, ingressos[filme_escolhido][1] + 1)\n",
        "\n",
        "print()\n",
        "print('Estrutura do dicionario de ingressos:')\n",
        "print(ingressos)\n",
        "print()\n",
        "\n",
        "maximo_ingressos_vendidos = 0\n",
        "filme_mais_vendido = None\n",
        "for chave, valor in ingressos.items():\n",
        "    filme = valor[0]\n",
        "    quantidade_ingressos = valor[1]\n",
        "    \n",
        "    if quantidade_ingressos > maximo_ingressos_vendidos:\n",
        "        filme_mais_vendido = filme\n",
        "        maximo_ingressos_vendidos = quantidade_ingressos\n",
        "\n",
        "print('O filme mais vendido foi: {}.'.format(filme_mais_vendido.nome))\n",
        "print('O ano do filme mais vendido foi: {}.'.format(filme_mais_vendido.ano))\n",
        "print('O genero do filme mais vendido foi: {}.'.format(filme_mais_vendido.genero))\n",
        "print('A quantidade de ingressos do filme mais vendido foi: {}.'.format(maximo_ingressos_vendidos))\n",
        "print()"
      ],
      "execution_count": null,
      "outputs": [
        {
          "output_type": "stream",
          "name": "stdout",
          "text": [
            "\n",
            "Estrutura do dicionario de ingressos:\n",
            "{Filme(Matrix, 1999): (Filme(Matrix, 1999), 78), Filme(Homem-Aranha, 2002): (Filme(Homem-Aranha, 2002), 79), Filme(Cinderela, 2021): (Filme(Cinderela, 2021), 76), Filme(Xuxa em O Misterio de Feiurinha, 2009): (Filme(Xuxa em O Misterio de Feiurinha, 2009), 67)}\n",
            "\n",
            "O filme mais vendido foi: Homem-Aranha.\n",
            "O ano do filme mais vendido foi: 2002.\n",
            "O genero do filme mais vendido foi: Ação/Fantasia.\n",
            "A quantidade de ingressos do filme mais vendido foi: 79.\n",
            "\n"
          ]
        }
      ]
    },
    {
      "cell_type": "markdown",
      "metadata": {
        "id": "0HmfLDLXBD8_"
      },
      "source": [
        "# Programação Funcional\n"
      ]
    },
    {
      "cell_type": "markdown",
      "metadata": {
        "id": "cFCWMb75RAb8"
      },
      "source": [
        "Aula 0 - Python 2 vs Python 3 - Func. Prog."
      ]
    },
    {
      "cell_type": "code",
      "metadata": {
        "id": "mpHWECW6BKoA"
      },
      "source": [
        "# Aula 0 - Python 2 vs Python 3 - Func. Prog.\n"
      ],
      "execution_count": null,
      "outputs": []
    }
  ]
}