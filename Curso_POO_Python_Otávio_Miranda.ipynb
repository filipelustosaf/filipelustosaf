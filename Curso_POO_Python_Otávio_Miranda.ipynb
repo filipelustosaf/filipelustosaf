{
  "nbformat": 4,
  "nbformat_minor": 0,
  "metadata": {
    "colab": {
      "name": "Curso POO Python Otávio Miranda.ipynb",
      "provenance": [],
      "collapsed_sections": [],
      "authorship_tag": "ABX9TyMu2SHAhclFT+2wmuD55V8Y"
    },
    "kernelspec": {
      "name": "python3",
      "display_name": "Python 3"
    },
    "language_info": {
      "name": "python"
    }
  },
  "cells": [
    {
      "cell_type": "markdown",
      "metadata": {
        "id": "pmnHy7y8uVfV"
      },
      "source": [
        "# **Classes** - Python Orientado a Objetos - Aula 35\n",
        "\n",
        "Nessa aula vamos iniciar a Programação Orientada a Objetos em Python. Vamos criar uma classe básica com vários recursos da POO para que você se familiarize com os termos e o paradigma em si.\n",
        "\n",
        "https://www.youtube.com/watch?v=RLVbB91A5-8&list=PLbIBj8vQhvm0ayQsrhEf-7-8JAj-MwmPr&index=40"
      ]
    },
    {
      "cell_type": "code",
      "metadata": {
        "colab": {
          "base_uri": "https://localhost:8080/"
        },
        "id": "oPjguD5OtsIT",
        "outputId": "6e700103-01c7-412c-efd6-331df355d5a1"
      },
      "source": [
        "from datetime import datetime\n",
        "\n",
        "class Pessoa:\n",
        "    ano_atual = int(datetime.strftime(datetime.now(), '%Y'))  # ATRIBUTO DE CLASSE\n",
        "\n",
        "    def __init__(self, nome, idade, comendo=False, falando=False):     # ATRIBUTOS DE INSTÂNCIA\n",
        "       self.nome = nome                  \n",
        "       self.idade = idade\n",
        "       self.comendo = comendo\n",
        "       self.falando = falando\n",
        "\n",
        "    def falar(self, assunto):\n",
        "        if self.comendo:\n",
        "            print(f'{self.nome} não pode falar comendo.')\n",
        "            return\n",
        "\n",
        "        if self.falando:\n",
        "            print(f'{self.nome} já está falando.')\n",
        "            return\n",
        "\n",
        "        print(f'{self.nome} está falando sobre {assunto}.')\n",
        "        self.falando = True\n",
        "\n",
        "    def parar_falar(self):\n",
        "        if not self.falando:\n",
        "            print(f'{self.nome} não está falando')\n",
        "            return\n",
        "\n",
        "        print(f'{self.nome} parou de falar.')\n",
        "        self.falando = False\n",
        "\n",
        "    def comer(self, alimento):\n",
        "        if self.comendo:\n",
        "            print(f'{self.nome} já está comendo.')\n",
        "            return\n",
        "\n",
        "        if self.falando:\n",
        "            print(f'{self.nome} não pode comer falando.')\n",
        "            return\n",
        "\n",
        "        print(f'{self.nome} está comendo {alimento}.')\n",
        "        self.comendo = True\n",
        "\n",
        "    def parar_comer(self):\n",
        "        if not self.comendo:\n",
        "            print(f'{self.nome} não está comendo.')\n",
        "            return\n",
        "\n",
        "        print(f'{self.nome} parou de comer.')\n",
        "        self.comendo = False\n",
        "\n",
        "    def get_ano_nascimento(self):\n",
        "        return self.ano_atual - self.idade\n",
        "\n",
        "p1 = Pessoa('Luiz', 29)\n",
        "p2 = Pessoa('João', 32)\n",
        "\n",
        "p1.comer('maçã')\n",
        "p1.falar('POO')\n",
        "p1.parar_comer()\n",
        "p1.falar('POO')\n",
        "p1.comer('alimento')\n",
        "p1.parar_falar()\n",
        "p1.falar('assunto')\n",
        "\n",
        "print(p1.get_ano_nascimento())\n",
        "print(p2.get_ano_nascimento())\n"
      ],
      "execution_count": null,
      "outputs": [
        {
          "output_type": "stream",
          "name": "stdout",
          "text": [
            "Luiz está comendo maçã.\n",
            "Luiz não pode falar comendo.\n",
            "Luiz parou de comer.\n",
            "Luiz está falando sobre POO.\n",
            "Luiz não pode comer falando.\n",
            "Luiz parou de falar.\n",
            "Luiz está falando sobre assunto.\n",
            "1992\n",
            "1989\n"
          ]
        }
      ]
    },
    {
      "cell_type": "markdown",
      "metadata": {
        "id": "mZVIvTDtu5fI"
      },
      "source": [
        "# **Métodos de Classe** - Python Orientado a Objetos - Aula 36\n",
        "\n",
        "Continuando com a Programação Orientada a Objetos em Python. Vamos criar métodos de classe (@classmethod) que são métodos que pertencem à classe em si, não às suas instâncias.\n",
        "\n",
        "https://www.youtube.com/watch?v=ZTKeC1lae6I&list=PLbIBj8vQhvm0ayQsrhEf-7-8JAj-MwmPr&index=41"
      ]
    },
    {
      "cell_type": "code",
      "metadata": {
        "colab": {
          "base_uri": "https://localhost:8080/"
        },
        "id": "cJAE56CAu8uY",
        "outputId": "f7f7b35e-664b-408f-b95b-d35df5f5aa9e"
      },
      "source": [
        "class Pessoa:\n",
        "    ano_atual = 2019\n",
        "\n",
        "    def __init__(self, nome, idade):   \n",
        "       self.nome = nome                  \n",
        "       self.idade = idade\n",
        "\n",
        "    def get_ano_nascimento(self):           # ATRIBUTO DE INSTÂNCIA\n",
        "        return self.ano_atual - self.idade\n",
        "    \n",
        "    @classmethod        # ATRIBUTO DE CLASSE que nesse caso cria uma pessoa com base no ano de nascimento.\n",
        "    def por_ano_nascimento(cls, nome, ano_nascimento):  # ao invés de self usa cls já que é de classe\n",
        "      idade = cls.ano_atual - ano_nascimento\n",
        "      return cls(nome, idade)  # retorna os atributos do próprio objeto, mas por outro meio, usando ano_nascimento como parâmetro.\n",
        "\n",
        "#p1 = Pessoa('Luiz', 32)   # cria o objeto normal pelo __init__\n",
        "p1 = Pessoa.por_ano_nascimento('Luiz', 1987) \n",
        "print(p1.nome, p1.idade)\n",
        "p1.get_ano_nascimento()"
      ],
      "execution_count": null,
      "outputs": [
        {
          "output_type": "stream",
          "name": "stdout",
          "text": [
            "Luiz 32\n"
          ]
        },
        {
          "output_type": "execute_result",
          "data": {
            "text/plain": [
              "1987"
            ]
          },
          "metadata": {},
          "execution_count": 13
        }
      ]
    },
    {
      "cell_type": "markdown",
      "metadata": {
        "id": "VoDo_KKMxrLV"
      },
      "source": [
        "# **Métodos estáticos** - Python Orientado a Objetos - Aula 37\n",
        "\n",
        "Continuando com a Programação Orientada a Objetos em Python. Vamos criar métodos estáticos (@staticmethod) que são métodos que não referenciam a classe ou instância em seu corpo. São similares à funções normais, porém, por questão de organização, são criados dentro da classe.\n",
        "\n",
        "https://www.youtube.com/watch?v=fChIn5Agl90&list=PLbIBj8vQhvm0ayQsrhEf-7-8JAj-MwmPr&index=42"
      ]
    },
    {
      "cell_type": "code",
      "metadata": {
        "colab": {
          "base_uri": "https://localhost:8080/"
        },
        "id": "b-v6JgzV0hMq",
        "outputId": "111f49f2-92e1-436a-87de-003b3ec32e56"
      },
      "source": [
        "from random import randint\n",
        "\n",
        "class Pessoa:\n",
        "    ano_atual = 2019\n",
        "\n",
        "    def __init__(self, nome, idade):   \n",
        "       self.nome = nome                  \n",
        "       self.idade = idade\n",
        "\n",
        "    def get_ano_nascimento(self):           \n",
        "        return self.ano_atual - self.idade\n",
        "    \n",
        "    @classmethod        \n",
        "    def por_ano_nascimento(cls, nome, ano_nascimento):  \n",
        "      idade = cls.ano_atual - ano_nascimento\n",
        "      return cls(nome, idade)  \n",
        "\n",
        "    @staticmethod\n",
        "    def gera_id():\n",
        "        rand = randint(10000, 19999)\n",
        "        return rand\n",
        "\n",
        "#p1 = Pessoa('Luiz', 32)   # cria o objeto normal pelo __init__\n",
        "p1 = Pessoa.por_ano_nascimento('Luiz', 1987) \n",
        "print(p1.nome, p1.idade)\n",
        "p1.get_ano_nascimento()\n",
        "print(Pessoa.gera_id())       # pode gerar independente \n",
        "print(p1.gera_id())    # pode gerar pela instância também"
      ],
      "execution_count": null,
      "outputs": [
        {
          "output_type": "stream",
          "name": "stdout",
          "text": [
            "Luiz 32\n",
            "13811\n",
            "17742\n"
          ]
        }
      ]
    },
    {
      "cell_type": "markdown",
      "metadata": {
        "id": "EjDiRtNd2C7-"
      },
      "source": [
        "# **@property** - Getters e Setters - Python Orientado a Objetos - Aula 38\n",
        "\n",
        "Continuando com a Programação Orientada a Objetos em Python. Hoje vamos aprender a usar @property (getters) e setters, que são métodos para controlar (validar) a entrada e saída de dados dos atributos dos nossos objetos.\n",
        "\n",
        "https://www.youtube.com/watch?v=PGXwNophTOQ&list=PLbIBj8vQhvm0ayQsrhEf-7-8JAj-MwmPr&index=43"
      ]
    },
    {
      "cell_type": "code",
      "metadata": {
        "colab": {
          "base_uri": "https://localhost:8080/"
        },
        "id": "IiFXSi524Am1",
        "outputId": "835f49a3-f298-4b13-f709-38159f6b6e84"
      },
      "source": [
        "class Produto:\n",
        "  def __init__(self, nome, preco):\n",
        "    self.nome = nome\n",
        "    self.preco = preco \n",
        "\n",
        "  def desconto(self, percentual):\n",
        "    self.preco = self.preco - (self.preco * (percentual/100))\n",
        "\n",
        "  # Getter e Setter funcionam como filtros para tratar os atributos.\n",
        "  # Getter -> obtem o valor\n",
        "  @property\n",
        "  def preco(self):\n",
        "    return self._preco\n",
        "\n",
        "  # Setter -> configura/trata o valor\n",
        "  @preco.setter\n",
        "  def preco(self, valor):\n",
        "    if isinstance(valor, str):\n",
        "      valor = float(valor.replace('R$', ''))\n",
        "    self._preco = valor\n",
        "\n",
        "p1 = Produto('Camiseta', 50)\n",
        "p1.desconto(10)\n",
        "print(p1.preco)\n",
        "\n",
        "p2 = Produto('Caneca', \"R$15\")  # passou o preço como string e funcionou por conta do getter e setter\n",
        "p2.desconto(10)\n",
        "print(p2.preco)"
      ],
      "execution_count": null,
      "outputs": [
        {
          "output_type": "stream",
          "name": "stdout",
          "text": [
            "45.0\n",
            "13.5\n"
          ]
        }
      ]
    },
    {
      "cell_type": "markdown",
      "metadata": {
        "id": "KtDeU3Xk7K-Q"
      },
      "source": [
        "# **Atributos de Classe** - Python Orientado a Objetos - Aula 39\n",
        "\n",
        "Continuando com a Programação Orientada a Objetos em Python, hoje vamos falar um pouco mais sobre os atributos (variáveis) de classe.\n",
        "\n",
        "https://www.youtube.com/watch?v=Q86OP92hYG0&list=PLbIBj8vQhvm0ayQsrhEf-7-8JAj-MwmPr&index=44"
      ]
    },
    {
      "cell_type": "code",
      "metadata": {
        "colab": {
          "base_uri": "https://localhost:8080/"
        },
        "id": "4ZuOT7_l-tU4",
        "outputId": "3989eaf2-cb64-4db6-8a03-8b10890a32ee"
      },
      "source": [
        "class A:\n",
        "  vc = 123      # VARIÁVEL DE CLASSE\n",
        "\n",
        "a1 = A()\n",
        "a2 = A()\n",
        "\n",
        "print(a1.vc)\n",
        "print(a2.vc)\n",
        "print(A.vc)\n",
        "\n",
        "A.vc = 321   # se eu altero o valor, altera em todas as instâncias.\n",
        "\n",
        "print('\\n')\n",
        "print(a1.vc)\n",
        "print(a2.vc)\n",
        "print(A.vc)\n",
        "\n",
        "a1.vc = 11111   # aqui eu não estou alterando o vc da classe, mas estou criando um atributo vc para a1.\n",
        "\n",
        "print('\\n')\n",
        "print(a1.vc)\n",
        "print(a2.vc)\n",
        "print(A.vc)"
      ],
      "execution_count": 5,
      "outputs": [
        {
          "output_type": "stream",
          "name": "stdout",
          "text": [
            "123\n",
            "123\n",
            "123\n",
            "\n",
            "\n",
            "321\n",
            "321\n",
            "321\n",
            "\n",
            "\n",
            "11111\n",
            "321\n",
            "321\n"
          ]
        }
      ]
    },
    {
      "cell_type": "markdown",
      "metadata": {
        "id": "__WEZh-IAilb"
      },
      "source": [
        "# **Encapsulamento** - Python Orientado a Objetos - Aula 40\n",
        "\n",
        "Continuando com a Programação Orientada a Objetos em Python, hoje vamos falar sobre o encapsulamento de atributos e métodos em suas classes.\n",
        "\n",
        "\n",
        "**public**(fora da classe)\n",
        "\n",
        "**protected**(apenas dentro da classe ou subclasses)\n",
        "\n",
        "**private**(apenas dentro da classe)\n"
      ]
    },
    {
      "cell_type": "code",
      "metadata": {
        "colab": {
          "base_uri": "https://localhost:8080/",
          "height": 353
        },
        "id": "D5LMtrsRAmkR",
        "outputId": "380a8bf4-79a7-4810-929e-29c2e537e013"
      },
      "source": [
        "class BaseDeDados:\n",
        "\n",
        "  def __init__(self):\n",
        "    self.dados = {}       # public\n",
        "    # self._dados = {}      # protected\n",
        "    # self.__dados = {}      # private\n",
        "  \n",
        "  # OBS: PODE USAR TAMBÉM NOS MÉTODOS\n",
        "\n",
        "  def inserir_cliente(self, id, nome):\n",
        "    if 'clientes' not in self.dados:\n",
        "      self.dados['clientes'] = {id: nome}\n",
        "    else:\n",
        "      self.dados['clientes'].update({id: nome})\n",
        "  \n",
        "  def lista_clientes(self):\n",
        "    for id, nome in self.dados['clientes'].items():\n",
        "      print(id, nome)\n",
        "    pass\n",
        "  \n",
        "  def apaga_cliente(self, id):\n",
        "    del self.dados['clientes'][id]\n",
        "\n",
        "\n",
        "bd = BaseDeDados()\n",
        "bd.inserir_cliente(1, 'Otávio')\n",
        "bd.inserir_cliente(2, 'Miranda')\n",
        "bd.inserir_cliente(3, 'Rose')\n",
        "\n",
        "bd.dados = 'Uma outra coisa'  # aqui eu quebrei toda a classe porque eu subscrevi a lista 'clientes'\n",
        "                              # por isso é bom deixar o atributo privado ou protegido.\n",
        "bd.apaga_cliente(2)\n",
        "bd.lista_clientes()\n"
      ],
      "execution_count": 15,
      "outputs": [
        {
          "output_type": "error",
          "ename": "TypeError",
          "evalue": "ignored",
          "traceback": [
            "\u001b[0;31m---------------------------------------------------------------------------\u001b[0m",
            "\u001b[0;31mTypeError\u001b[0m                                 Traceback (most recent call last)",
            "\u001b[0;32m<ipython-input-15-80cf322b7333>\u001b[0m in \u001b[0;36m<module>\u001b[0;34m()\u001b[0m\n\u001b[1;32m     28\u001b[0m \u001b[0mbd\u001b[0m\u001b[0;34m.\u001b[0m\u001b[0mdados\u001b[0m \u001b[0;34m=\u001b[0m \u001b[0;34m'Uma outra coisa'\u001b[0m  \u001b[0;31m# aqui eu quebrei toda a classe porque eu subscrevi a lista 'clientes'\u001b[0m\u001b[0;34m\u001b[0m\u001b[0;34m\u001b[0m\u001b[0m\n\u001b[1;32m     29\u001b[0m                               \u001b[0;31m# por isso é bom deixar o atributo privado ou protegido.\u001b[0m\u001b[0;34m\u001b[0m\u001b[0;34m\u001b[0m\u001b[0;34m\u001b[0m\u001b[0m\n\u001b[0;32m---> 30\u001b[0;31m \u001b[0mbd\u001b[0m\u001b[0;34m.\u001b[0m\u001b[0mapaga_cliente\u001b[0m\u001b[0;34m(\u001b[0m\u001b[0;36m2\u001b[0m\u001b[0;34m)\u001b[0m\u001b[0;34m\u001b[0m\u001b[0;34m\u001b[0m\u001b[0m\n\u001b[0m\u001b[1;32m     31\u001b[0m \u001b[0mbd\u001b[0m\u001b[0;34m.\u001b[0m\u001b[0mlista_clientes\u001b[0m\u001b[0;34m(\u001b[0m\u001b[0;34m)\u001b[0m\u001b[0;34m\u001b[0m\u001b[0;34m\u001b[0m\u001b[0m\n",
            "\u001b[0;32m<ipython-input-15-80cf322b7333>\u001b[0m in \u001b[0;36mapaga_cliente\u001b[0;34m(self, id)\u001b[0m\n\u001b[1;32m     18\u001b[0m \u001b[0;34m\u001b[0m\u001b[0m\n\u001b[1;32m     19\u001b[0m   \u001b[0;32mdef\u001b[0m \u001b[0mapaga_cliente\u001b[0m\u001b[0;34m(\u001b[0m\u001b[0mself\u001b[0m\u001b[0;34m,\u001b[0m \u001b[0mid\u001b[0m\u001b[0;34m)\u001b[0m\u001b[0;34m:\u001b[0m\u001b[0;34m\u001b[0m\u001b[0;34m\u001b[0m\u001b[0m\n\u001b[0;32m---> 20\u001b[0;31m     \u001b[0;32mdel\u001b[0m \u001b[0mself\u001b[0m\u001b[0;34m.\u001b[0m\u001b[0mdados\u001b[0m\u001b[0;34m[\u001b[0m\u001b[0;34m'clientes'\u001b[0m\u001b[0;34m]\u001b[0m\u001b[0;34m[\u001b[0m\u001b[0mid\u001b[0m\u001b[0;34m]\u001b[0m\u001b[0;34m\u001b[0m\u001b[0;34m\u001b[0m\u001b[0m\n\u001b[0m\u001b[1;32m     21\u001b[0m \u001b[0;34m\u001b[0m\u001b[0m\n\u001b[1;32m     22\u001b[0m \u001b[0;34m\u001b[0m\u001b[0m\n",
            "\u001b[0;31mTypeError\u001b[0m: string indices must be integers"
          ]
        }
      ]
    },
    {
      "cell_type": "markdown",
      "metadata": {
        "id": "YYULlKy-Hqfx"
      },
      "source": [
        "# **Associação** - Python Orientado a Objetos - Aula 41\n",
        "\n",
        "Continuando com a Programação Orientada a Objetos em Python, hoje vamos falar sobre a associação, um tipo de relacionamento entre os classes.\n",
        "\n",
        "\n",
        "**Associação - classes que se relacionam, mas não são dependentes uma da outra.**"
      ]
    },
    {
      "cell_type": "code",
      "metadata": {
        "colab": {
          "base_uri": "https://localhost:8080/"
        },
        "id": "HiPDVsOlHyx6",
        "outputId": "3c1e03b0-d692-4bbc-8cc2-6dc7c340d2e9"
      },
      "source": [
        "class Escritor:\n",
        "\n",
        "  def __init__(self, nome):\n",
        "    self.__nome = nome\n",
        "    self.__ferramenta = None\n",
        "  \n",
        "  @property\n",
        "  def nome(self):\n",
        "    return self.__nome\n",
        "\n",
        "  @property\n",
        "  def ferramenta(self):\n",
        "    return self.__ferramenta\n",
        "\n",
        "  @ferramenta.setter\n",
        "  def ferramenta(self, ferramenta):\n",
        "    self.__ferramenta = ferramenta\n",
        "\n",
        "\n",
        "class Caneta:\n",
        "\n",
        "  def __init__(self, marca):\n",
        "    self.__marca = marca\n",
        "\n",
        "  @property\n",
        "  def marca(self):\n",
        "    return self.__marca\n",
        "\n",
        "  def escrever(self):\n",
        "    print('Caneta está escrevendo...')\n",
        "\n",
        "\n",
        "class MaquinaDeEscrever:\n",
        "  def escrever(self):\n",
        "    print('Máquina está escrevendo...')\n",
        "\n",
        "\n",
        "escritor = Escritor('Joãozinho')\n",
        "caneta = Caneta('Bic')\n",
        "maquina = MaquinaDeEscrever()\n",
        "\n",
        "print(escritor.nome)\n",
        "print(caneta.marca)\n",
        "maquina.escrever()\n",
        "\n",
        "# ASSOCIAÇÃO\n",
        "escritor.ferramenta = caneta   # eu incluí o objeto caneta em ferramenta de escritor. \n",
        "escritor.ferramenta.escrever()   # agora eu posso usar os métodos de caneta em escritor.\n"
      ],
      "execution_count": 27,
      "outputs": [
        {
          "output_type": "stream",
          "name": "stdout",
          "text": [
            "Joãozinho\n",
            "Bic\n",
            "Máquina está escrevendo...\n",
            "Caneta está escrevendo...\n"
          ]
        }
      ]
    },
    {
      "cell_type": "markdown",
      "metadata": {
        "id": "mZT8yrl9mYcL"
      },
      "source": [
        "# **Agregação** - Python Orientado a Objetos - Aula 42\n",
        "\n",
        "Continuando com a Programação Orientada a Objetos em Python, hoje vamos falar sobre a agregação, um tipo de relacionamento entre os classes onde uma classe depende de outra classe para funcionar corretamente.\n",
        "\n",
        "**OBS: dentro de associação existe a agregação e a composição.**\n",
        "\n",
        "**Agragação - uma classe precisa de outra classe.**"
      ]
    },
    {
      "cell_type": "code",
      "metadata": {
        "id": "Z7RpmnJgmc9B"
      },
      "source": [
        ""
      ],
      "execution_count": null,
      "outputs": []
    }
  ]
}